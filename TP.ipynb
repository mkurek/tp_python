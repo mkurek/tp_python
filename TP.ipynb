{
 "metadata": {
  "celltoolbar": "Slideshow",
  "name": "",
  "signature": "sha256:e5e851627ae4f8a2dce3e14572634b604389b98e301c10701a9328f5e02d9da4"
 },
 "nbformat": 3,
 "nbformat_minor": 0,
 "worksheets": [
  {
   "cells": [
    {
     "cell_type": "heading",
     "level": 1,
     "metadata": {
      "slideshow": {
       "slide_type": "slide"
      }
     },
     "source": [
      "Python+"
     ]
    },
    {
     "cell_type": "heading",
     "level": 3,
     "metadata": {},
     "source": [
      "Krzysztof Lewi\u0144ski & Mateusz Kurek"
     ]
    },
    {
     "cell_type": "heading",
     "level": 2,
     "metadata": {
      "slideshow": {
       "slide_type": "slide"
      }
     },
     "source": [
      "Agenda"
     ]
    },
    {
     "cell_type": "markdown",
     "metadata": {},
     "source": [
      "* Introduction to Python\n",
      "* Syntax\n",
      "* Basic types and data structures\n",
      "* Advanced usage (tips & tricks)\n",
      "* Built-in functions & Standard library\n",
      "* Modules, packages, virtualenv\n",
      "* IPython\n",
      "* PyPy\n",
      "* NumPy/SciPy\n",
      "* scikit-learn \n",
      "* Django\n",
      "\n"
     ]
    },
    {
     "cell_type": "heading",
     "level": 2,
     "metadata": {
      "slideshow": {
       "slide_type": "slide"
      }
     },
     "source": [
      "Introduction to Python"
     ]
    },
    {
     "cell_type": "heading",
     "level": 3,
     "metadata": {
      "slideshow": {
       "slide_type": "subslide"
      }
     },
     "source": [
      "History"
     ]
    },
    {
     "cell_type": "markdown",
     "metadata": {
      "slideshow": {
       "slide_type": "fragment"
      }
     },
     "source": [
      "* Creator: **Guidio van Rossum**\n",
      "* When: 1991\n",
      "* Current version: 2.7.9 / 3.4.2\n",
      "\n"
     ]
    },
    {
     "cell_type": "markdown",
     "metadata": {
      "slideshow": {
       "slide_type": "fragment"
      }
     },
     "source": [
      "<img src=\"http://upload.wikimedia.org/wikipedia/commons/6/66/Guido_van_Rossum_OSCON_2006.jpg\" style=\"width: 200px;\"/>"
     ]
    },
    {
     "cell_type": "markdown",
     "metadata": {
      "slideshow": {
       "slide_type": "notes"
      }
     },
     "source": [
      "Over six years ago, in December 1989, I was looking for a \"hobby\" programming project that would keep me occupied during the week around Christmas. My office ... would be closed, but I had a home computer, and not much else on my hands. I decided to write an interpreter for the new scripting language I had been thinking about lately: a descendant of ABC that would appeal to Unix/C hackers. I chose Python as a working title for the project, being in a slightly irreverent mood (and a big fan of Monty Python's Flying Circus)."
     ]
    },
    {
     "cell_type": "heading",
     "level": 3,
     "metadata": {
      "slideshow": {
       "slide_type": "subslide"
      }
     },
     "source": [
      "Python philosophy"
     ]
    },
    {
     "cell_type": "markdown",
     "metadata": {
      "slideshow": {
       "slide_type": "fragment"
      }
     },
     "source": [
      "* emphasizes code readability\n",
      "* dynamic type system (but strong!)\n",
      "* multi-paradigm:\n",
      "  - object-oriented\n",
      "  - imperative\n",
      "  - functional (partialy)\n",
      "  - aspect (parialy)\n",
      "* duck typing"
     ]
    },
    {
     "cell_type": "markdown",
     "metadata": {
      "slideshow": {
       "slide_type": "notes"
      }
     },
     "source": [
      "* programowanie aspektowe przez metaklasy i magiczne metody\n",
      "* dynamicznie typowany (typ ustalany automatycznie), ale silne (okre\u015blony typ, nie wolno u\u017cywa\u0107 w kontek\u015bcie innego typu)\n",
      "* duck typing - je\u015bli co\u015b wygl\u0105da jak kaczka i zachowuje si\u0119 jak kaczka to jest kaczk\u0105 - rozpoznawanie typu obiektu nie na podstawie deklaracji, ale przez badanie metod udost\u0119pnionych przez obiekt"
     ]
    },
    {
     "cell_type": "markdown",
     "metadata": {
      "slideshow": {
       "slide_type": "notes"
      }
     },
     "source": [
      "* Powszechnie jest stosowana rekurencja zamiast p\u0119tli\n",
      "* Brak efekt\u00f3w ubocznych (brak globalnego stanu, j\u0119zyki czysto funkcyjne)\n",
      "* Leniwe warto\u015bciowanie\n",
      "* Funkcje to podstawowe poj\u0119cia (ang. first-class )\n",
      "* Funkcje mog\u0105 operowa\u0107 na funkcjach (ang. high-order )\n",
      "* Listy s\u0105 podstawow\u0105 struktur\u0105 danych\n",
      "* Inne poj\u0119cie czasu..."
     ]
    },
    {
     "cell_type": "markdown",
     "metadata": {
      "slideshow": {
       "slide_type": "fragment"
      }
     },
     "source": [
      "Python probably has the reputation of supporting\n",
      "functional programming based on the inclusion of lambda, map,\n",
      "filter, and reduce in the language, but in my eyes these are just\n",
      "**syntactic sugar**, and not the fundamental building blocks that they\n",
      "are in functional languages."
     ]
    },
    {
     "cell_type": "heading",
     "level": 4,
     "metadata": {
      "slideshow": {
       "slide_type": "subslide"
      }
     },
     "source": [
      "PEP 20 (The Zen of Python)"
     ]
    },
    {
     "cell_type": "markdown",
     "metadata": {
      "slideshow": {
       "slide_type": "fragment"
      }
     },
     "source": [
      "* Beautiful is better than ugly \n",
      "* Explicit is better than implicit\n",
      "* Simple is better than complex\n",
      "* Complex is better than complicated\n",
      "* Readibility counts\n",
      "\n",
      "..."
     ]
    },
    {
     "cell_type": "code",
     "collapsed": false,
     "input": [
      "import this"
     ],
     "language": "python",
     "metadata": {
      "slideshow": {
       "slide_type": "subslide"
      }
     },
     "outputs": [
      {
       "output_type": "stream",
       "stream": "stdout",
       "text": [
        "The Zen of Python, by Tim Peters\n",
        "\n",
        "Beautiful is better than ugly.\n",
        "Explicit is better than implicit.\n",
        "Simple is better than complex.\n",
        "Complex is better than complicated.\n",
        "Flat is better than nested.\n",
        "Sparse is better than dense.\n",
        "Readability counts.\n",
        "Special cases aren't special enough to break the rules.\n",
        "Although practicality beats purity.\n",
        "Errors should never pass silently.\n",
        "Unless explicitly silenced.\n",
        "In the face of ambiguity, refuse the temptation to guess.\n",
        "There should be one-- and preferably only one --obvious way to do it.\n",
        "Although that way may not be obvious at first unless you're Dutch.\n",
        "Now is better than never.\n",
        "Although never is often better than *right* now.\n",
        "If the implementation is hard to explain, it's a bad idea.\n",
        "If the implementation is easy to explain, it may be a good idea.\n",
        "Namespaces are one honking great idea -- let's do more of those!\n"
       ]
      }
     ],
     "prompt_number": 1
    },
    {
     "cell_type": "heading",
     "level": 3,
     "metadata": {
      "slideshow": {
       "slide_type": "subslide"
      }
     },
     "source": [
      "Python vs C/C++"
     ]
    },
    {
     "cell_type": "markdown",
     "metadata": {
      "slideshow": {
       "slide_type": "fragment"
      }
     },
     "source": [
      "<table>\n",
      "<tr>\n",
      "<th>Python</th>\n",
      "<th>C/C++</th>\n",
      "</tr>\n",
      "<tr>\n",
      "<td>Easy and legible</td>\n",
      "<td>775 pages of language specification</td>\n",
      "</tr>\n",
      "<tr>\n",
      "<td>Interpreted</td>\n",
      "<td>Compiled</td>\n",
      "</tr>\n",
      "<tr>\n",
      "<td>Garbage Collector</td>\n",
      "<td>Lack of GC</td>\n",
      "</tr>\n",
      "<tr>\n",
      "<td>Dynamically typed</td>\n",
      "<td>Statically typed</td>\n",
      "</tr>\n",
      "</table>"
     ]
    },
    {
     "cell_type": "heading",
     "level": 3,
     "metadata": {
      "slideshow": {
       "slide_type": "slide"
      }
     },
     "source": [
      "Syntax"
     ]
    },
    {
     "cell_type": "markdown",
     "metadata": {
      "slideshow": {
       "slide_type": "fragment"
      }
     },
     "source": [
      "* uses whitespace to delimit program blocks (Off-side rule)\n",
      "* everything is an object (variable, function, instance, even class)\n",
      "* files with .py extensions"
     ]
    },
    {
     "cell_type": "code",
     "collapsed": false,
     "input": [
      "print(\"Hello world\")"
     ],
     "language": "python",
     "metadata": {
      "slideshow": {
       "slide_type": "subslide"
      }
     },
     "outputs": [
      {
       "output_type": "stream",
       "stream": "stdout",
       "text": [
        "Hello world\n"
       ]
      }
     ],
     "prompt_number": 1
    },
    {
     "cell_type": "code",
     "collapsed": false,
     "input": [
      "a = 10  # int\n",
      "b = 'abc'  # str\n",
      "c = d = None  # empty value - equivalent of NULL, NIL etc\n",
      "print(a, b, c, d)"
     ],
     "language": "python",
     "metadata": {
      "slideshow": {
       "slide_type": "fragment"
      }
     },
     "outputs": [
      {
       "output_type": "stream",
       "stream": "stdout",
       "text": [
        "(10, 'abc', None)\n"
       ]
      }
     ],
     "prompt_number": 17
    },
    {
     "cell_type": "code",
     "collapsed": false,
     "input": [
      "# example comment"
     ],
     "language": "python",
     "metadata": {
      "slideshow": {
       "slide_type": "fragment"
      }
     },
     "outputs": [],
     "prompt_number": 10
    },
    {
     "cell_type": "heading",
     "level": 5,
     "metadata": {
      "slideshow": {
       "slide_type": "subslide"
      }
     },
     "source": [
      "Strings"
     ]
    },
    {
     "cell_type": "code",
     "collapsed": false,
     "input": [
      "a = \"abc\"\n",
      "b = 'def'\n",
      "c = \"\"\"\n",
      "multi\n",
      "line\n",
      "string\n",
      "\"\"\"\n",
      "print(a)\n",
      "print(b[1])\n",
      "print(c)"
     ],
     "language": "python",
     "metadata": {},
     "outputs": [
      {
       "output_type": "stream",
       "stream": "stdout",
       "text": [
        "abc\n",
        "e\n",
        "\n",
        "multi\n",
        "line\n",
        "string\n",
        "\n"
       ]
      }
     ],
     "prompt_number": 9
    },
    {
     "cell_type": "markdown",
     "metadata": {
      "slideshow": {
       "slide_type": "notes"
      }
     },
     "source": [
      "* ci\u0105gi mo\u017cna definiowa\u0107 w \"\", '' i \"\"\"\"\"\"\n",
      "* mo\u017ce by\u0107 traktowany jako lista znak\u00f3w"
     ]
    },
    {
     "cell_type": "heading",
     "level": 5,
     "metadata": {
      "slideshow": {
       "slide_type": "slide"
      }
     },
     "source": [
      "Loops"
     ]
    },
    {
     "cell_type": "code",
     "collapsed": false,
     "input": [
      "for letter in 'Python':\n",
      "   print 'Current Letter :', letter\n",
      "\n",
      "fruits = ['banana', 'apple',  'mango']\n",
      "for fruit in fruits:\n",
      "   print 'Current fruit :', fruit"
     ],
     "language": "python",
     "metadata": {},
     "outputs": [
      {
       "output_type": "stream",
       "stream": "stdout",
       "text": [
        "Current Letter : P\n",
        "Current Letter : y\n",
        "Current Letter : t\n",
        "Current Letter : h\n",
        "Current Letter : o\n",
        "Current Letter : n\n",
        "Current fruit : banana\n",
        "Current fruit : apple\n",
        "Current fruit : mango\n"
       ]
      }
     ],
     "prompt_number": 8
    },
    {
     "cell_type": "code",
     "collapsed": false,
     "input": [
      "i = 0\n",
      "while i < 5:\n",
      "    print(i)\n",
      "    i += 1"
     ],
     "language": "python",
     "metadata": {},
     "outputs": [
      {
       "output_type": "stream",
       "stream": "stdout",
       "text": [
        "0\n",
        "1\n",
        "2\n",
        "3\n",
        "4\n"
       ]
      }
     ],
     "prompt_number": 2
    },
    {
     "cell_type": "markdown",
     "metadata": {
      "slideshow": {
       "slide_type": "notes"
      }
     },
     "source": [
      "* zwr\u00f3ci\u0107 uwag\u0119, \u017ce nie ma ++ i -- w Pythonie"
     ]
    },
    {
     "cell_type": "heading",
     "level": 5,
     "metadata": {
      "slideshow": {
       "slide_type": "slide"
      }
     },
     "source": [
      "Decision Making"
     ]
    },
    {
     "cell_type": "code",
     "collapsed": false,
     "input": [
      "x = 10\n",
      "y = \"abc\"\n",
      "z = True\n",
      "if x < 20 or (y == \"abc\" and z):\n",
      "    print('Valid')\n",
      "elif not z:\n",
      "    print('Maybe?')\n",
      "else:\n",
      "    print('Not valid')"
     ],
     "language": "python",
     "metadata": {},
     "outputs": [
      {
       "output_type": "stream",
       "stream": "stdout",
       "text": [
        "Valid\n"
       ]
      }
     ],
     "prompt_number": 3
    },
    {
     "cell_type": "code",
     "collapsed": false,
     "input": [
      "x = 100\n",
      "y = \"abc\" if x % 10 == 0 else None\n",
      "print(y)"
     ],
     "language": "python",
     "metadata": {},
     "outputs": [
      {
       "output_type": "stream",
       "stream": "stdout",
       "text": [
        "abc\n"
       ]
      }
     ],
     "prompt_number": 10
    },
    {
     "cell_type": "heading",
     "level": 5,
     "metadata": {
      "slideshow": {
       "slide_type": "subslide"
      }
     },
     "source": [
      "Function"
     ]
    },
    {
     "cell_type": "code",
     "collapsed": false,
     "input": [
      "    def power(x, y):\n",
      "    return x**y\n",
      "\n",
      "power(2, 10)"
     ],
     "language": "python",
     "metadata": {
      "slideshow": {
       "slide_type": "-"
      }
     },
     "outputs": [
      {
       "metadata": {},
       "output_type": "pyout",
       "prompt_number": 18,
       "text": [
        "1024"
       ]
      }
     ],
     "prompt_number": 18
    },
    {
     "cell_type": "heading",
     "level": 5,
     "metadata": {
      "slideshow": {
       "slide_type": "subslide"
      }
     },
     "source": [
      "Class (OOP)"
     ]
    },
    {
     "cell_type": "code",
     "collapsed": false,
     "input": [
      "class Animal(object):\n",
      "    def __init__(self, name):\n",
      "        self.name = name\n",
      "    def introduce(self):\n",
      "        print(self.name)\n",
      "\n",
      "class Dog(Animal):\n",
      "    def __init__(self, name, color):\n",
      "        super(Dog, self).__init__(name)\n",
      "        self.color = color\n",
      "    def bark(self, times):\n",
      "        for i in range(times):\n",
      "            print('How how')\n",
      "        \n",
      "\n",
      "cat = Animal('Filemon')\n",
      "cat.introduce()\n",
      "\n",
      "reksio = Dog('Reksio', 'black')\n",
      "reksio.introduce()\n",
      "reksio.bark(3)"
     ],
     "language": "python",
     "metadata": {
      "slideshow": {
       "slide_type": "-"
      }
     },
     "outputs": [
      {
       "output_type": "stream",
       "stream": "stdout",
       "text": [
        "Filemon\n",
        "Reksio\n",
        "How how\n",
        "How how\n",
        "How how\n"
       ]
      }
     ],
     "prompt_number": 20
    },
    {
     "cell_type": "markdown",
     "metadata": {
      "slideshow": {
       "slide_type": "notes"
      }
     },
     "source": [
      "* self - instacja klasy, dodawana \"domy\u015blnie\" jako pierwszy parametr metody\n",
      "* `__init__` to funkcja inicjalizuj\u0105ca"
     ]
    },
    {
     "cell_type": "heading",
     "level": 5,
     "metadata": {
      "slideshow": {
       "slide_type": "subslide"
      }
     },
     "source": [
      "Exceptions"
     ]
    },
    {
     "cell_type": "markdown",
     "metadata": {},
     "source": [
      "* event, which occurs during the execution of a program, that disrupts the normal flow of the program's instructions\n",
      "* create your own exceptions by deriving from the Exception class"
     ]
    },
    {
     "cell_type": "code",
     "collapsed": false,
     "input": [
      "try:\n",
      "    print(10/0)\n",
      "except ZeroDivisionError:\n",
      "    print(\"Don't break the universe\")\n",
      "finally:\n",
      "    print(\"Run with or without exception\")"
     ],
     "language": "python",
     "metadata": {},
     "outputs": [
      {
       "output_type": "stream",
       "stream": "stdout",
       "text": [
        "Don't break the universe\n",
        "Run with or without exception\n"
       ]
      }
     ],
     "prompt_number": 11
    },
    {
     "cell_type": "heading",
     "level": 3,
     "metadata": {
      "slideshow": {
       "slide_type": "slide"
      }
     },
     "source": [
      "Naming conventions"
     ]
    },
    {
     "cell_type": "markdown",
     "metadata": {},
     "source": [
      "* Class names start with an uppercase letter and all other identifiers with a lowercase letter (ex. `SomeClass`).\n",
      "* Starting an identifier with a single leading underscore indicates **by convention** that the identifier is meant to be private (ex. `_secret_value`).\n",
      "* Starting an identifier with two leading underscores indicates a strongly private identifier (ex. `__classified_value`).\n",
      "* If the identifier also ends with two trailing underscores, the identifier is a language-defined special name (ex. `__init__`)."
     ]
    },
    {
     "cell_type": "markdown",
     "metadata": {
      "slideshow": {
       "slide_type": "notes"
      }
     },
     "source": [
      "* mimo prywatno\u015bci, wszystko da si\u0119 odczyta\u0107\n",
      "* __XXX___ -> magic method"
     ]
    },
    {
     "cell_type": "heading",
     "level": 2,
     "metadata": {
      "slideshow": {
       "slide_type": "slide"
      }
     },
     "source": [
      "Basic types and data structures"
     ]
    },
    {
     "cell_type": "markdown",
     "metadata": {},
     "source": [
      "* Number (int, float, Decimal)\n",
      "* String\n",
      "* List\n",
      "* Tuple\n",
      "* Dictionary\n",
      "* Set"
     ]
    },
    {
     "cell_type": "heading",
     "level": 3,
     "metadata": {
      "slideshow": {
       "slide_type": "slide"
      }
     },
     "source": [
      "List"
     ]
    },
    {
     "cell_type": "markdown",
     "metadata": {},
     "source": [
      "* sequence of Python objects\n",
      "* mutable\n",
      "* dynamic size\n",
      "* items in a list does not need to have the same type"
     ]
    },
    {
     "cell_type": "code",
     "collapsed": false,
     "input": [
      "l = [1, \"2\", 3.0]\n",
      "l2 = list()\n",
      "l3 = []\n",
      "print(l)"
     ],
     "language": "python",
     "metadata": {
      "slideshow": {
       "slide_type": "fragment"
      }
     },
     "outputs": [
      {
       "output_type": "stream",
       "stream": "stdout",
       "text": [
        "[1, '2', 3.0]\n"
       ]
      }
     ],
     "prompt_number": 2
    },
    {
     "cell_type": "heading",
     "level": 5,
     "metadata": {
      "slideshow": {
       "slide_type": "fragment"
      }
     },
     "source": [
      "accessing element"
     ]
    },
    {
     "cell_type": "code",
     "collapsed": false,
     "input": [
      "print(l[1], l[-1])"
     ],
     "language": "python",
     "metadata": {
      "slideshow": {
       "slide_type": "fragment"
      }
     },
     "outputs": [
      {
       "metadata": {},
       "output_type": "pyout",
       "prompt_number": 3,
       "text": [
        "'2'"
       ]
      }
     ],
     "prompt_number": 3
    },
    {
     "cell_type": "heading",
     "level": 5,
     "metadata": {
      "slideshow": {
       "slide_type": "subslide"
      }
     },
     "source": [
      "adding element at the end"
     ]
    },
    {
     "cell_type": "code",
     "collapsed": false,
     "input": [
      "l.append(\"czwarty element\")\n",
      "l.extend([None])\n",
      "print(l)"
     ],
     "language": "python",
     "metadata": {
      "slideshow": {
       "slide_type": "fragment"
      }
     },
     "outputs": [
      {
       "output_type": "stream",
       "stream": "stdout",
       "text": [
        "[1, '2', 3.0, 'czwarty element', None]\n"
       ]
      }
     ],
     "prompt_number": 14
    },
    {
     "cell_type": "heading",
     "level": 5,
     "metadata": {
      "slideshow": {
       "slide_type": "fragment"
      }
     },
     "source": [
      "adding element in the middle of the list"
     ]
    },
    {
     "cell_type": "code",
     "collapsed": false,
     "input": [
      "l.insert(1, \"i\")\n",
      "print(l)"
     ],
     "language": "python",
     "metadata": {
      "slideshow": {
       "slide_type": "fragment"
      }
     },
     "outputs": [
      {
       "output_type": "stream",
       "stream": "stdout",
       "text": [
        "[1, 'i', '2', 3.0, 'czwarty element', None]\n"
       ]
      }
     ],
     "prompt_number": 15
    },
    {
     "cell_type": "heading",
     "level": 5,
     "metadata": {
      "slideshow": {
       "slide_type": "fragment"
      }
     },
     "source": [
      "list length"
     ]
    },
    {
     "cell_type": "code",
     "collapsed": false,
     "input": [
      "len(l)"
     ],
     "language": "python",
     "metadata": {
      "slideshow": {
       "slide_type": "fragment"
      }
     },
     "outputs": [
      {
       "metadata": {},
       "output_type": "pyout",
       "prompt_number": 16,
       "text": [
        "6"
       ]
      }
     ],
     "prompt_number": 16
    },
    {
     "cell_type": "heading",
     "level": 3,
     "metadata": {
      "slideshow": {
       "slide_type": "slide"
      }
     },
     "source": [
      "Tuple"
     ]
    },
    {
     "cell_type": "markdown",
     "metadata": {},
     "source": [
      "* sequence of immutable Python objects\n",
      "* works and acts like lists, but...\n",
      "* tuples can't be changed"
     ]
    },
    {
     "cell_type": "code",
     "collapsed": false,
     "input": [
      "t1 = (1, \"2\", 3.0)\n",
      "t2 = \"a\", \"b\", \"c\", \"d\"\n",
      "t3 = ()\n",
      "t4 = tuple()\n",
      "print(t1)\n",
      "print(t2[2])"
     ],
     "language": "python",
     "metadata": {
      "slideshow": {
       "slide_type": "fragment"
      }
     },
     "outputs": [
      {
       "output_type": "stream",
       "stream": "stdout",
       "text": [
        "(1, '2', 3.0)\n",
        "c\n"
       ]
      }
     ],
     "prompt_number": 4
    },
    {
     "cell_type": "heading",
     "level": 3,
     "metadata": {
      "slideshow": {
       "slide_type": "slide"
      }
     },
     "source": [
      "Dictionary"
     ]
    },
    {
     "cell_type": "markdown",
     "metadata": {
      "slideshow": {
       "slide_type": "-"
      }
     },
     "source": [
      "* key-value storage\n",
      "* also known as associative arrays or hash tables\n",
      "* mutable\n",
      "* The values of a dictionary can be of any type, but the keys must be of an immutable data type such as strings, numbers, or tuples.\n",
      "* unordered!"
     ]
    },
    {
     "cell_type": "code",
     "collapsed": false,
     "input": [
      "d = {3: '3'}\n",
      "d['one'] = \"This is one\"\n",
      "d[2]     = \"This is two\"\n",
      "print(d)  # order different than insertion order"
     ],
     "language": "python",
     "metadata": {
      "slideshow": {
       "slide_type": "fragment"
      }
     },
     "outputs": [
      {
       "output_type": "stream",
       "stream": "stdout",
       "text": [
        "{2: 'This is two', 3: '3', 'one': 'This is one'}\n"
       ]
      }
     ],
     "prompt_number": 6
    },
    {
     "cell_type": "heading",
     "level": 5,
     "metadata": {
      "slideshow": {
       "slide_type": "subslide"
      }
     },
     "source": [
      "accessing element"
     ]
    },
    {
     "cell_type": "code",
     "collapsed": false,
     "input": [
      "print(d['one'])\n",
      "print(d.get(1, 'One'))"
     ],
     "language": "python",
     "metadata": {},
     "outputs": [
      {
       "output_type": "stream",
       "stream": "stdout",
       "text": [
        "This is one\n",
        "One\n"
       ]
      }
     ],
     "prompt_number": 7
    },
    {
     "cell_type": "heading",
     "level": 5,
     "metadata": {
      "slideshow": {
       "slide_type": "subslide"
      }
     },
     "source": [
      "Simple check if element (key!) in dictionary"
     ]
    },
    {
     "cell_type": "code",
     "collapsed": false,
     "input": [
      "2 in d"
     ],
     "language": "python",
     "metadata": {},
     "outputs": [
      {
       "metadata": {},
       "output_type": "pyout",
       "prompt_number": 8,
       "text": [
        "True"
       ]
      }
     ],
     "prompt_number": 8
    },
    {
     "cell_type": "heading",
     "level": 5,
     "metadata": {
      "slideshow": {
       "slide_type": "subslide"
      }
     },
     "source": [
      "Delete element"
     ]
    },
    {
     "cell_type": "code",
     "collapsed": false,
     "input": [
      "del d[2]"
     ],
     "language": "python",
     "metadata": {},
     "outputs": [],
     "prompt_number": 9
    },
    {
     "cell_type": "heading",
     "level": 5,
     "metadata": {
      "slideshow": {
       "slide_type": "subslide"
      }
     },
     "source": [
      "Iterating (tricky!)"
     ]
    },
    {
     "cell_type": "code",
     "collapsed": false,
     "input": [
      "print('Keys')\n",
      "for key in d:  # equivalent of d.keys()\n",
      "    print(key)\n",
      "print('\\nValues')\n",
      "for value in d.values():\n",
      "    print(value)\n",
      "print('\\nItems')\n",
      "for key, value in d.items():\n",
      "    print(key, value)"
     ],
     "language": "python",
     "metadata": {},
     "outputs": [
      {
       "output_type": "stream",
       "stream": "stdout",
       "text": [
        "Keys\n",
        "3\n",
        "one\n",
        "\n",
        "Values\n",
        "3\n",
        "This is one\n",
        "\n",
        "Items\n",
        "(3, '3')\n",
        "('one', 'This is one')\n"
       ]
      }
     ],
     "prompt_number": 11
    },
    {
     "cell_type": "heading",
     "level": 3,
     "metadata": {
      "slideshow": {
       "slide_type": "slide"
      }
     },
     "source": [
      "Set"
     ]
    },
    {
     "cell_type": "code",
     "collapsed": false,
     "input": [
      "basket = ['apple', 'orange', 'apple', 'pear', 'orange', 'banana']\n",
      "fruit = set(basket)               # create a set without duplicates\n",
      "print(fruit)\n",
      "fruit = set(['orange', 'pear', 'apple', 'banana'])\n",
      "'orange' in fruit                 # fast membership testing"
     ],
     "language": "python",
     "metadata": {
      "slideshow": {
       "slide_type": "fragment"
      }
     },
     "outputs": [
      {
       "output_type": "stream",
       "stream": "stdout",
       "text": [
        "set(['orange', 'pear', 'apple', 'banana'])\n"
       ]
      },
      {
       "metadata": {},
       "output_type": "pyout",
       "prompt_number": 12,
       "text": [
        "True"
       ]
      }
     ],
     "prompt_number": 12
    },
    {
     "cell_type": "markdown",
     "metadata": {
      "slideshow": {
       "slide_type": "notes"
      }
     },
     "source": [
      "* z\u0142o\u017cono\u015b\u0107 - szybsze ni\u017c na li\u015bcie sprawdzanie czy element znajduje si\u0119 w secie\n",
      "* implementacja taka jak s\u0142ownika (ale tutaj bez warto\u015bci)\n",
      "* tylko unikalnie elementy"
     ]
    },
    {
     "cell_type": "heading",
     "level": 2,
     "metadata": {
      "slideshow": {
       "slide_type": "slide"
      }
     },
     "source": [
      "Advanced usage - tips & tricks"
     ]
    },
    {
     "cell_type": "markdown",
     "metadata": {},
     "source": [
      "TODO: lambda, zakresy na li\u015bcie, defaultdict, ordereddict, list comprehension, dict comprehension, *args, **kwargs, funkcje zwracaj\u0105ce wiele warto\u015bci (i rozpakowanie), isinstance"
     ]
    },
    {
     "cell_type": "heading",
     "level": 2,
     "metadata": {
      "slideshow": {
       "slide_type": "slide"
      }
     },
     "source": [
      "Modules, packaging and virtualenv"
     ]
    },
    {
     "cell_type": "markdown",
     "metadata": {
      "slideshow": {
       "slide_type": "fragment"
      }
     },
     "source": [
      "* module - single Python file\n",
      "* package - collection of modules - dictionary (__init__.py file required!)"
     ]
    },
    {
     "cell_type": "code",
     "collapsed": false,
     "input": [
      "import os\n",
      "print(os.getcwd())"
     ],
     "language": "python",
     "metadata": {
      "slideshow": {
       "slide_type": "subslide"
      }
     },
     "outputs": [
      {
       "output_type": "stream",
       "stream": "stdout",
       "text": [
        "/Users/mateusz/workspace/put/tp_python/tp_python\n"
       ]
      }
     ],
     "prompt_number": 13
    },
    {
     "cell_type": "code",
     "collapsed": false,
     "input": [
      "from decimal import Decimal\n",
      "print(Decimal('11.1111111'))"
     ],
     "language": "python",
     "metadata": {
      "slideshow": {
       "slide_type": "fragment"
      }
     },
     "outputs": [
      {
       "output_type": "stream",
       "stream": "stdout",
       "text": [
        "11.1111111\n"
       ]
      }
     ],
     "prompt_number": 14
    },
    {
     "cell_type": "code",
     "collapsed": false,
     "input": [
      "# niezalecane\n",
      "from math import *\n",
      "print(sin(pi))"
     ],
     "language": "python",
     "metadata": {
      "slideshow": {
       "slide_type": "fragment"
      }
     },
     "outputs": [
      {
       "output_type": "stream",
       "stream": "stdout",
       "text": [
        "1.22464679915e-16\n"
       ]
      }
     ],
     "prompt_number": 15
    },
    {
     "cell_type": "heading",
     "level": 3,
     "metadata": {
      "slideshow": {
       "slide_type": "subslide"
      }
     },
     "source": [
      "Packaging"
     ]
    },
    {
     "cell_type": "markdown",
     "metadata": {},
     "source": [
      "TODO: setup.py (metadane), jak wygl\u0105da drzewo plik\u00f3w, instalacja przez pip"
     ]
    },
    {
     "cell_type": "heading",
     "level": 3,
     "metadata": {
      "slideshow": {
       "slide_type": "subslide"
      }
     },
     "source": [
      "Virtualenv"
     ]
    },
    {
     "cell_type": "markdown",
     "metadata": {},
     "source": [
      "TODO"
     ]
    },
    {
     "cell_type": "heading",
     "level": 2,
     "metadata": {
      "slideshow": {
       "slide_type": "slide"
      }
     },
     "source": [
      "Built-in Functions and Standard Library (stdlib)"
     ]
    },
    {
     "cell_type": "markdown",
     "metadata": {},
     "source": [
      "TODO: \n",
      "sorted, zip, enumerate, range,  chr/ord, dir, min, max\n",
      "all/any, map, sum, filter?, reduce?\n",
      "datetime, obs\u0142uga plik\u00f3w, re, os, httplib"
     ]
    },
    {
     "cell_type": "heading",
     "level": 2,
     "metadata": {
      "slideshow": {
       "slide_type": "slide"
      }
     },
     "source": [
      "IPython"
     ]
    },
    {
     "cell_type": "markdown",
     "metadata": {},
     "source": [
      "* rozbudowany shell do Pythona \n",
      "    - kolorowanie sk\u0142adni\n",
      "    - podpowiadanie sk\u0142adni \n",
      "    - wizualizacje\n",
      "* IPython Notebook\n",
      "* narz\u0119dzia do programowania r\u00f3wnoleg\u0142ego \n",
      "\n",
      "TODO -> eng"
     ]
    },
    {
     "cell_type": "code",
     "collapsed": false,
     "input": [
      "from IPython.display import YouTubeVideo\n",
      "YouTubeVideo('H6dLGQw9yFQ')"
     ],
     "language": "python",
     "metadata": {
      "slideshow": {
       "slide_type": "fragment"
      }
     },
     "outputs": [
      {
       "html": [
        "\n",
        "        <iframe\n",
        "            width=\"400\"\n",
        "            height=300\"\n",
        "            src=\"https://www.youtube.com/embed/H6dLGQw9yFQ\"\n",
        "            frameborder=\"0\"\n",
        "            allowfullscreen\n",
        "        ></iframe>\n",
        "        "
       ],
       "metadata": {},
       "output_type": "pyout",
       "prompt_number": 4,
       "text": [
        "<IPython.lib.display.YouTubeVideo at 0x109e45610>"
       ]
      }
     ],
     "prompt_number": 4
    },
    {
     "cell_type": "markdown",
     "metadata": {
      "slideshow": {
       "slide_type": "notes"
      }
     },
     "source": [
      "prezentacja \"live\" \n",
      "\n",
      "pokaza\u0107 jaki\u015b przyk\u0142ad kt\u00f3ry by\u0142 powy\u017cej (np jakie\u015b listy, funkcje, import, podpowiadanie tabem) i \u017ce dzia\u0142aj\u0105 niekt\u00f3re komendy konsolowe (ls)"
     ]
    },
    {
     "cell_type": "heading",
     "level": 3,
     "metadata": {
      "slideshow": {
       "slide_type": "subslide"
      }
     },
     "source": [
      "IPython Parallel computing"
     ]
    },
    {
     "cell_type": "markdown",
     "metadata": {
      "slideshow": {
       "slide_type": "fragment"
      }
     },
     "source": [
      "* Steer traditional MPI applications on a supercomputer from an IPython session on your laptop.\n",
      "* Analyze and visualize large datasets (that could be remote and/or distributed) interactively.\n",
      "* Tie together multiple MPI jobs running on different systems into one giant distributed and parallel system.\n",
      "* Start a parallel job on your cluster and then have a remote collaborator connect to it and pull back data into their local IPython session for plotting and analysis.\n",
      "* Run a set of tasks on a set of CPUs using dynamic load balancing."
     ]
    },
    {
     "cell_type": "markdown",
     "metadata": {
      "slideshow": {
       "slide_type": "notes"
      }
     },
     "source": [
      "* Steer traditional MPI applications on a supercomputer from an IPython session on your laptop.\n",
      "* Analyze and visualize large datasets (that could be remote and/or distributed) interactively using IPython and tools like matplotlib/TVTK.\n",
      "* Develop, test and debug new parallel algorithms (that may use MPI) interactively.\n",
      "* Tie together multiple MPI jobs running on different systems into one giant distributed and parallel system.\n",
      "* Start a parallel job on your cluster and then have a remote collaborator connect to it and pull back data into their local IPython session for plotting and analysis.\n",
      "* Run a set of tasks on a set of CPUs using dynamic load balancing.\n",
      "\n",
      "IPython Engine, Schedulers, controller, hub\n",
      "\n",
      "IPYHTON tutorial paralell\n",
      "\n",
      "2011 Austin SciPy Conference\n",
      "Tutorial for IPython paralell computing\n",
      "http://minrk.github.io/scipy-tutorial-2011/"
     ]
    },
    {
     "cell_type": "heading",
     "level": 2,
     "metadata": {
      "slideshow": {
       "slide_type": "slide"
      }
     },
     "source": [
      "PyPy"
     ]
    },
    {
     "cell_type": "markdown",
     "metadata": {},
     "source": [
      "* Python implementation written in RPython\n",
      "* Can be compiled to Java bytecode, CLR, C\n",
      "* Many times faster than standard Python"
     ]
    },
    {
     "cell_type": "heading",
     "level": 3,
     "metadata": {},
     "source": [
      "PyPy vs CPython"
     ]
    },
    {
     "cell_type": "markdown",
     "metadata": {},
     "source": [
      "* PyPy 6.3 times faster (as for basic)\n",
      "* no GIL (Global Interpreter Lock) drawbacks\n",
      "* many of the libraries require CPython\n",
      "* need of reorganization of tools\n",
      "* in the end efficiency gain is unsure"
     ]
    },
    {
     "cell_type": "markdown",
     "metadata": {
      "slideshow": {
       "slide_type": "notes"
      }
     },
     "source": [
      "* Restricted Python - restrictions enabling inferring datatype on compile timr\n",
      "* mo\u017cna bardziej rozwin\u0105\u0107 temat GIL (tylko jeden proces CPythona dzia\u0142a na raz)"
     ]
    },
    {
     "cell_type": "heading",
     "level": 2,
     "metadata": {
      "slideshow": {
       "slide_type": "slide"
      }
     },
     "source": [
      "NumPy"
     ]
    },
    {
     "cell_type": "heading",
     "level": 2,
     "metadata": {
      "slideshow": {
       "slide_type": "slide"
      }
     },
     "source": [
      "SciPy"
     ]
    },
    {
     "cell_type": "heading",
     "level": 2,
     "metadata": {
      "slideshow": {
       "slide_type": "slide"
      }
     },
     "source": [
      "ScikitLearn"
     ]
    },
    {
     "cell_type": "heading",
     "level": 2,
     "metadata": {
      "slideshow": {
       "slide_type": "slide"
      }
     },
     "source": [
      "Django"
     ]
    },
    {
     "cell_type": "code",
     "collapsed": false,
     "input": [],
     "language": "python",
     "metadata": {},
     "outputs": []
    }
   ],
   "metadata": {}
  }
 ]
}