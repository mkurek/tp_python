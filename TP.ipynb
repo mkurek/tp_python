{
 "metadata": {
  "celltoolbar": "Slideshow",
  "name": "",
  "signature": "sha256:7f41fbcd42dcdad8a6699bc8063edf974ddb346571e872ae6d9b96b68073a68c"
 },
 "nbformat": 3,
 "nbformat_minor": 0,
 "worksheets": [
  {
   "cells": [
    {
     "cell_type": "heading",
     "level": 1,
     "metadata": {
      "slideshow": {
       "slide_type": "slide"
      }
     },
     "source": [
      "Python+"
     ]
    },
    {
     "cell_type": "heading",
     "level": 3,
     "metadata": {},
     "source": [
      "Krzysztof Lewi\u0144ski & Mateusz Kurek"
     ]
    },
    {
     "cell_type": "heading",
     "level": 2,
     "metadata": {
      "slideshow": {
       "slide_type": "slide"
      }
     },
     "source": [
      "Agenda"
     ]
    },
    {
     "cell_type": "markdown",
     "metadata": {},
     "source": [
      "* Introduction to Python\n",
      "* Syntax\n",
      "* Basic types and data structures\n",
      "* Advanced usage (tips & tricks)\n",
      "* Built-in functions & Standard library\n",
      "* Modules, packages, virtualenv\n",
      "* IPython\n",
      "* PyPy\n",
      "* NumPy\n",
      "* scikit-learn \n",
      "* Django\n",
      "* More tips & tricks\n",
      "\n"
     ]
    },
    {
     "cell_type": "heading",
     "level": 2,
     "metadata": {
      "slideshow": {
       "slide_type": "slide"
      }
     },
     "source": [
      "Introduction to Python"
     ]
    },
    {
     "cell_type": "heading",
     "level": 3,
     "metadata": {
      "slideshow": {
       "slide_type": "subslide"
      }
     },
     "source": [
      "History"
     ]
    },
    {
     "cell_type": "markdown",
     "metadata": {
      "slideshow": {
       "slide_type": "fragment"
      }
     },
     "source": [
      "* Creator: **Guidio van Rossum**\n",
      "* When: 1991\n",
      "* Current version: 2.7.9 / 3.4.2\n",
      "\n"
     ]
    },
    {
     "cell_type": "markdown",
     "metadata": {
      "slideshow": {
       "slide_type": "fragment"
      }
     },
     "source": [
      "<img src=\"http://upload.wikimedia.org/wikipedia/commons/6/66/Guido_van_Rossum_OSCON_2006.jpg\" style=\"width: 200px;\"/>"
     ]
    },
    {
     "cell_type": "markdown",
     "metadata": {
      "slideshow": {
       "slide_type": "notes"
      }
     },
     "source": [
      "Over six years ago, in December 1989, I was looking for a \"hobby\" programming project that would keep me occupied during the week around Christmas. My office ... would be closed, but I had a home computer, and not much else on my hands. I decided to write an interpreter for the new scripting language I had been thinking about lately: a descendant of ABC that would appeal to Unix/C hackers. I chose Python as a working title for the project, being in a slightly irreverent mood (and a big fan of Monty Python's Flying Circus)."
     ]
    },
    {
     "cell_type": "heading",
     "level": 3,
     "metadata": {
      "slideshow": {
       "slide_type": "subslide"
      }
     },
     "source": [
      "Python philosophy"
     ]
    },
    {
     "cell_type": "markdown",
     "metadata": {
      "slideshow": {
       "slide_type": "fragment"
      }
     },
     "source": [
      "* emphasizes code readability\n",
      "* dynamic type system (but strong!)\n",
      "* multi-paradigm:\n",
      "  - object-oriented\n",
      "  - imperative\n",
      "  - functional (partialy)\n",
      "  - aspect (parialy)\n",
      "* duck typing\n",
      "* excellent documentation and community"
     ]
    },
    {
     "cell_type": "markdown",
     "metadata": {
      "slideshow": {
       "slide_type": "notes"
      }
     },
     "source": [
      "* programowanie aspektowe przez metaklasy i magiczne metody\n",
      "* dynamicznie typowany (typ ustalany automatycznie), ale silne (okre\u015blony typ, nie wolno u\u017cywa\u0107 w kontek\u015bcie innego typu)\n",
      "* duck typing - je\u015bli co\u015b wygl\u0105da jak kaczka i zachowuje si\u0119 jak kaczka to jest kaczk\u0105 - rozpoznawanie typu obiektu nie na podstawie deklaracji, ale przez badanie metod udost\u0119pnionych przez obiekt"
     ]
    },
    {
     "cell_type": "markdown",
     "metadata": {
      "slideshow": {
       "slide_type": "notes"
      }
     },
     "source": [
      "* Powszechnie jest stosowana rekurencja zamiast p\u0119tli\n",
      "* Brak efekt\u00f3w ubocznych (brak globalnego stanu, j\u0119zyki czysto funkcyjne)\n",
      "* Leniwe warto\u015bciowanie\n",
      "* Funkcje to podstawowe poj\u0119cia (ang. first-class )\n",
      "* Funkcje mog\u0105 operowa\u0107 na funkcjach (ang. high-order )\n",
      "* Listy s\u0105 podstawow\u0105 struktur\u0105 danych\n",
      "* Inne poj\u0119cie czasu..."
     ]
    },
    {
     "cell_type": "markdown",
     "metadata": {
      "slideshow": {
       "slide_type": "fragment"
      }
     },
     "source": [
      "Python probably has the reputation of supporting\n",
      "functional programming based on the inclusion of lambda, map,\n",
      "filter, and reduce in the language, but in my eyes these are just\n",
      "**syntactic sugar**, and not the fundamental building blocks that they\n",
      "are in functional languages."
     ]
    },
    {
     "cell_type": "heading",
     "level": 4,
     "metadata": {
      "slideshow": {
       "slide_type": "subslide"
      }
     },
     "source": [
      "PEP 20 (The Zen of Python)"
     ]
    },
    {
     "cell_type": "markdown",
     "metadata": {
      "slideshow": {
       "slide_type": "fragment"
      }
     },
     "source": [
      "* Beautiful is better than ugly \n",
      "* Explicit is better than implicit\n",
      "* Simple is better than complex\n",
      "* Complex is better than complicated\n",
      "* Readibility counts\n",
      "\n",
      "..."
     ]
    },
    {
     "cell_type": "code",
     "collapsed": false,
     "input": [
      "import this"
     ],
     "language": "python",
     "metadata": {
      "slideshow": {
       "slide_type": "subslide"
      }
     },
     "outputs": [
      {
       "output_type": "stream",
       "stream": "stdout",
       "text": [
        "The Zen of Python, by Tim Peters\n",
        "\n",
        "Beautiful is better than ugly.\n",
        "Explicit is better than implicit.\n",
        "Simple is better than complex.\n",
        "Complex is better than complicated.\n",
        "Flat is better than nested.\n",
        "Sparse is better than dense.\n",
        "Readability counts.\n",
        "Special cases aren't special enough to break the rules.\n",
        "Although practicality beats purity.\n",
        "Errors should never pass silently.\n",
        "Unless explicitly silenced.\n",
        "In the face of ambiguity, refuse the temptation to guess.\n",
        "There should be one-- and preferably only one --obvious way to do it.\n",
        "Although that way may not be obvious at first unless you're Dutch.\n",
        "Now is better than never.\n",
        "Although never is often better than *right* now.\n",
        "If the implementation is hard to explain, it's a bad idea.\n",
        "If the implementation is easy to explain, it may be a good idea.\n",
        "Namespaces are one honking great idea -- let's do more of those!\n"
       ]
      }
     ],
     "prompt_number": 1
    },
    {
     "cell_type": "heading",
     "level": 3,
     "metadata": {
      "slideshow": {
       "slide_type": "subslide"
      }
     },
     "source": [
      "Python vs C/C++"
     ]
    },
    {
     "cell_type": "markdown",
     "metadata": {
      "slideshow": {
       "slide_type": "fragment"
      }
     },
     "source": [
      "<table>\n",
      "<tr>\n",
      "<th>Python</th>\n",
      "<th>C/C++</th>\n",
      "</tr>\n",
      "<tr>\n",
      "<td>Easy and legible</td>\n",
      "<td>775 pages of language specification</td>\n",
      "</tr>\n",
      "<tr>\n",
      "<td>Interpreted</td>\n",
      "<td>Compiled</td>\n",
      "</tr>\n",
      "<tr>\n",
      "<td>Garbage Collector</td>\n",
      "<td>Lack of GC</td>\n",
      "</tr>\n",
      "<tr>\n",
      "<td>Dynamically typed</td>\n",
      "<td>Statically typed</td>\n",
      "</tr>\n",
      "</table>"
     ]
    },
    {
     "cell_type": "heading",
     "level": 3,
     "metadata": {
      "slideshow": {
       "slide_type": "slide"
      }
     },
     "source": [
      "Syntax"
     ]
    },
    {
     "cell_type": "markdown",
     "metadata": {
      "slideshow": {
       "slide_type": "fragment"
      }
     },
     "source": [
      "* uses whitespace to delimit program blocks (Off-side rule)\n",
      "* everything is an object (variable, function, instance, even class)\n",
      "* files with .py extensions"
     ]
    },
    {
     "cell_type": "code",
     "collapsed": false,
     "input": [
      "print(\"Hello world\")"
     ],
     "language": "python",
     "metadata": {
      "slideshow": {
       "slide_type": "subslide"
      }
     },
     "outputs": [
      {
       "output_type": "stream",
       "stream": "stdout",
       "text": [
        "Hello world\n"
       ]
      }
     ],
     "prompt_number": 2
    },
    {
     "cell_type": "code",
     "collapsed": false,
     "input": [
      "a = 10  # int\n",
      "b = 'abc'  # str\n",
      "c = d = None  # empty value - equivalent of NULL, NIL etc\n",
      "print(a, b, c, d)"
     ],
     "language": "python",
     "metadata": {
      "slideshow": {
       "slide_type": "fragment"
      }
     },
     "outputs": [
      {
       "output_type": "stream",
       "stream": "stdout",
       "text": [
        "(10, 'abc', None, None)\n"
       ]
      }
     ],
     "prompt_number": 3
    },
    {
     "cell_type": "code",
     "collapsed": false,
     "input": [
      "# example comment"
     ],
     "language": "python",
     "metadata": {
      "slideshow": {
       "slide_type": "fragment"
      }
     },
     "outputs": [],
     "prompt_number": 4
    },
    {
     "cell_type": "heading",
     "level": 5,
     "metadata": {
      "slideshow": {
       "slide_type": "subslide"
      }
     },
     "source": [
      "Strings"
     ]
    },
    {
     "cell_type": "code",
     "collapsed": false,
     "input": [
      "a = \"abc\"\n",
      "b = 'def'\n",
      "c = \"\"\"\n",
      "multi\n",
      "line\n",
      "string\n",
      "\"\"\"\n",
      "print(a)\n",
      "print(b[1])\n",
      "print(c)"
     ],
     "language": "python",
     "metadata": {},
     "outputs": [
      {
       "output_type": "stream",
       "stream": "stdout",
       "text": [
        "abc\n",
        "e\n",
        "\n",
        "multi\n",
        "line\n",
        "string\n",
        "\n"
       ]
      }
     ],
     "prompt_number": 5
    },
    {
     "cell_type": "markdown",
     "metadata": {
      "slideshow": {
       "slide_type": "notes"
      }
     },
     "source": [
      "* ci\u0105gi mo\u017cna definiowa\u0107 w \"\", '' i \"\"\"\"\"\"\n",
      "* mo\u017ce by\u0107 traktowany jako lista znak\u00f3w"
     ]
    },
    {
     "cell_type": "heading",
     "level": 5,
     "metadata": {
      "slideshow": {
       "slide_type": "subslide"
      }
     },
     "source": [
      "Loops"
     ]
    },
    {
     "cell_type": "code",
     "collapsed": false,
     "input": [
      "for letter in 'Python':\n",
      "   print 'Current Letter :', letter\n",
      "\n",
      "fruits = ['banana', 'apple',  'mango']\n",
      "for fruit in fruits:\n",
      "   print 'Current fruit :', fruit"
     ],
     "language": "python",
     "metadata": {},
     "outputs": [
      {
       "output_type": "stream",
       "stream": "stdout",
       "text": [
        "Current Letter : P\n",
        "Current Letter : y\n",
        "Current Letter : t\n",
        "Current Letter : h\n",
        "Current Letter : o\n",
        "Current Letter : n\n",
        "Current fruit : banana\n",
        "Current fruit : apple\n",
        "Current fruit : mango\n"
       ]
      }
     ],
     "prompt_number": 6
    },
    {
     "cell_type": "code",
     "collapsed": false,
     "input": [
      "i = 0\n",
      "while i < 5:\n",
      "    print(i)\n",
      "    i += 1"
     ],
     "language": "python",
     "metadata": {},
     "outputs": [
      {
       "output_type": "stream",
       "stream": "stdout",
       "text": [
        "0\n",
        "1\n",
        "2\n",
        "3\n",
        "4\n"
       ]
      }
     ],
     "prompt_number": 7
    },
    {
     "cell_type": "markdown",
     "metadata": {
      "slideshow": {
       "slide_type": "notes"
      }
     },
     "source": [
      "* zwr\u00f3ci\u0107 uwag\u0119, \u017ce nie ma ++ i -- w Pythonie"
     ]
    },
    {
     "cell_type": "heading",
     "level": 5,
     "metadata": {
      "slideshow": {
       "slide_type": "subslide"
      }
     },
     "source": [
      "Decision Making"
     ]
    },
    {
     "cell_type": "code",
     "collapsed": false,
     "input": [
      "x = 10\n",
      "y = \"abc\"\n",
      "z = True\n",
      "if x < 20 or (y == \"abc\" and z):\n",
      "    print('Valid')\n",
      "elif not z:\n",
      "    print('Maybe?')\n",
      "else:\n",
      "    print('Not valid')"
     ],
     "language": "python",
     "metadata": {},
     "outputs": [
      {
       "output_type": "stream",
       "stream": "stdout",
       "text": [
        "Valid\n"
       ]
      }
     ],
     "prompt_number": 8
    },
    {
     "cell_type": "code",
     "collapsed": false,
     "input": [
      "x = 100\n",
      "y = \"abc\" if x % 10 == 0 else None\n",
      "print(y)"
     ],
     "language": "python",
     "metadata": {},
     "outputs": [
      {
       "output_type": "stream",
       "stream": "stdout",
       "text": [
        "abc\n"
       ]
      }
     ],
     "prompt_number": 9
    },
    {
     "cell_type": "heading",
     "level": 5,
     "metadata": {
      "slideshow": {
       "slide_type": "subslide"
      }
     },
     "source": [
      "Function"
     ]
    },
    {
     "cell_type": "code",
     "collapsed": false,
     "input": [
      "def power(x, y):\n",
      "    return x**y\n",
      "\n",
      "power(2, 10)"
     ],
     "language": "python",
     "metadata": {
      "slideshow": {
       "slide_type": "-"
      }
     },
     "outputs": [
      {
       "metadata": {},
       "output_type": "pyout",
       "prompt_number": 10,
       "text": [
        "1024"
       ]
      }
     ],
     "prompt_number": 10
    },
    {
     "cell_type": "heading",
     "level": 5,
     "metadata": {
      "slideshow": {
       "slide_type": "subslide"
      }
     },
     "source": [
      "Class (OOP)"
     ]
    },
    {
     "cell_type": "code",
     "collapsed": false,
     "input": [
      "class Animal(object):\n",
      "    def __init__(self, name):\n",
      "        self.name = name\n",
      "    def introduce(self):\n",
      "        print(self.name)\n",
      "\n",
      "class Dog(Animal):\n",
      "    def __init__(self, name, color):\n",
      "        super(Dog, self).__init__(name)\n",
      "        self.color = color\n",
      "    def bark(self, times):\n",
      "        for i in range(times):\n",
      "            print('How how')\n",
      "        \n",
      "\n",
      "cat = Animal('Filemon')\n",
      "cat.introduce()\n",
      "\n",
      "reksio = Dog('Reksio', 'black')\n",
      "reksio.introduce()\n",
      "reksio.bark(3)"
     ],
     "language": "python",
     "metadata": {
      "slideshow": {
       "slide_type": "-"
      }
     },
     "outputs": [
      {
       "output_type": "stream",
       "stream": "stdout",
       "text": [
        "Filemon\n",
        "Reksio\n",
        "How how\n",
        "How how\n",
        "How how\n"
       ]
      }
     ],
     "prompt_number": 11
    },
    {
     "cell_type": "markdown",
     "metadata": {
      "slideshow": {
       "slide_type": "notes"
      }
     },
     "source": [
      "* self - instacja klasy, dodawana \"domy\u015blnie\" jako pierwszy parametr metody\n",
      "* `__init__` to funkcja inicjalizuj\u0105ca"
     ]
    },
    {
     "cell_type": "heading",
     "level": 5,
     "metadata": {
      "slideshow": {
       "slide_type": "subslide"
      }
     },
     "source": [
      "Exceptions"
     ]
    },
    {
     "cell_type": "markdown",
     "metadata": {},
     "source": [
      "* event, which occurs during the execution of a program, that disrupts the normal flow of the program's instructions\n",
      "* create your own exceptions by deriving from the Exception class"
     ]
    },
    {
     "cell_type": "code",
     "collapsed": false,
     "input": [
      "try:\n",
      "    print(10/0)\n",
      "except ZeroDivisionError:\n",
      "    print(\"Don't break the universe\")\n",
      "finally:\n",
      "    print(\"Run with or without exception\")"
     ],
     "language": "python",
     "metadata": {},
     "outputs": [
      {
       "output_type": "stream",
       "stream": "stdout",
       "text": [
        "Don't break the universe\n",
        "Run with or without exception\n"
       ]
      }
     ],
     "prompt_number": 12
    },
    {
     "cell_type": "heading",
     "level": 3,
     "metadata": {
      "slideshow": {
       "slide_type": "subslide"
      }
     },
     "source": [
      "Naming conventions"
     ]
    },
    {
     "cell_type": "markdown",
     "metadata": {},
     "source": [
      "* Class names start with an uppercase letter and all other identifiers with a lowercase letter (ex. `SomeClass`).\n",
      "* Starting an identifier with a single leading underscore indicates **by convention** that the identifier is meant to be private (ex. `_secret_value`).\n",
      "* Starting an identifier with two leading underscores indicates a strongly private identifier (ex. `__classified_value`).\n",
      "* If the identifier also ends with two trailing underscores, the identifier is a language-defined special name (ex. `__init__`)."
     ]
    },
    {
     "cell_type": "markdown",
     "metadata": {
      "slideshow": {
       "slide_type": "notes"
      }
     },
     "source": [
      "* mimo prywatno\u015bci, wszystko da si\u0119 odczyta\u0107\n",
      "* __XXX___ -> magic method"
     ]
    },
    {
     "cell_type": "heading",
     "level": 2,
     "metadata": {
      "slideshow": {
       "slide_type": "slide"
      }
     },
     "source": [
      "Basic types and data structures"
     ]
    },
    {
     "cell_type": "markdown",
     "metadata": {},
     "source": [
      "* Number (int, float, Decimal)\n",
      "* String\n",
      "* List\n",
      "* Tuple\n",
      "* Dictionary\n",
      "* Set"
     ]
    },
    {
     "cell_type": "heading",
     "level": 3,
     "metadata": {
      "slideshow": {
       "slide_type": "slide"
      }
     },
     "source": [
      "String"
     ]
    },
    {
     "cell_type": "code",
     "collapsed": false,
     "input": [
      "txt = \" some text\""
     ],
     "language": "python",
     "metadata": {},
     "outputs": [],
     "prompt_number": 13
    },
    {
     "cell_type": "code",
     "collapsed": false,
     "input": [
      "txt * 3"
     ],
     "language": "python",
     "metadata": {},
     "outputs": [
      {
       "metadata": {},
       "output_type": "pyout",
       "prompt_number": 14,
       "text": [
        "' some text some text some text'"
       ]
      }
     ],
     "prompt_number": 14
    },
    {
     "cell_type": "code",
     "collapsed": false,
     "input": [
      "txt.title()"
     ],
     "language": "python",
     "metadata": {},
     "outputs": [
      {
       "metadata": {},
       "output_type": "pyout",
       "prompt_number": 15,
       "text": [
        "' Some Text'"
       ]
      }
     ],
     "prompt_number": 15
    },
    {
     "cell_type": "code",
     "collapsed": false,
     "input": [
      "txt.capitalize()"
     ],
     "language": "python",
     "metadata": {},
     "outputs": [
      {
       "metadata": {},
       "output_type": "pyout",
       "prompt_number": 16,
       "text": [
        "' some text'"
       ]
      }
     ],
     "prompt_number": 16
    },
    {
     "cell_type": "code",
     "collapsed": false,
     "input": [
      "txt.replace('ex', 'xe')"
     ],
     "language": "python",
     "metadata": {},
     "outputs": [
      {
       "metadata": {},
       "output_type": "pyout",
       "prompt_number": 17,
       "text": [
        "' some txet'"
       ]
      }
     ],
     "prompt_number": 17
    },
    {
     "cell_type": "code",
     "collapsed": false,
     "input": [
      "if txt.startswith('some'):\n",
      "    print(True)\n",
      "elif txt.endswith('text'):\n",
      "    print(False)"
     ],
     "language": "python",
     "metadata": {},
     "outputs": [
      {
       "output_type": "stream",
       "stream": "stdout",
       "text": [
        "False\n"
       ]
      }
     ],
     "prompt_number": 18
    },
    {
     "cell_type": "code",
     "collapsed": false,
     "input": [
      "txt.strip()"
     ],
     "language": "python",
     "metadata": {
      "slideshow": {
       "slide_type": "subslide"
      }
     },
     "outputs": [
      {
       "metadata": {},
       "output_type": "pyout",
       "prompt_number": 19,
       "text": [
        "'some text'"
       ]
      }
     ],
     "prompt_number": 19
    },
    {
     "cell_type": "code",
     "collapsed": false,
     "input": [
      "txt.split(' ')"
     ],
     "language": "python",
     "metadata": {},
     "outputs": [
      {
       "metadata": {},
       "output_type": "pyout",
       "prompt_number": 20,
       "text": [
        "['', 'some', 'text']"
       ]
      }
     ],
     "prompt_number": 20
    },
    {
     "cell_type": "code",
     "collapsed": false,
     "input": [
      "l = [\"2\", \"a\", \"p\", \"5\"]\n",
      "', '.join(l)"
     ],
     "language": "python",
     "metadata": {},
     "outputs": [
      {
       "metadata": {},
       "output_type": "pyout",
       "prompt_number": 21,
       "text": [
        "'2, a, p, 5'"
       ]
      }
     ],
     "prompt_number": 21
    },
    {
     "cell_type": "code",
     "collapsed": false,
     "input": [
      "name = 'Mateusz'\n",
      "name2 = 'Krzysztof'\n",
      "print('My name is {}'.format(name))\n",
      "print('Your name is {name}'.format(name=name2))"
     ],
     "language": "python",
     "metadata": {},
     "outputs": [
      {
       "output_type": "stream",
       "stream": "stdout",
       "text": [
        "My name is Mateusz\n",
        "Your name is Krzysztof\n"
       ]
      }
     ],
     "prompt_number": 22
    },
    {
     "cell_type": "heading",
     "level": 3,
     "metadata": {
      "slideshow": {
       "slide_type": "subslide"
      }
     },
     "source": [
      "List"
     ]
    },
    {
     "cell_type": "markdown",
     "metadata": {},
     "source": [
      "* sequence of Python objects\n",
      "* mutable\n",
      "* dynamic size\n",
      "* items in a list does not need to have the same type"
     ]
    },
    {
     "cell_type": "code",
     "collapsed": false,
     "input": [
      "l = [1, \"2\", 3.0]\n",
      "l2 = list()\n",
      "l3 = []\n",
      "print(l)"
     ],
     "language": "python",
     "metadata": {
      "slideshow": {
       "slide_type": "fragment"
      }
     },
     "outputs": [
      {
       "output_type": "stream",
       "stream": "stdout",
       "text": [
        "[1, '2', 3.0]\n"
       ]
      }
     ],
     "prompt_number": 23
    },
    {
     "cell_type": "heading",
     "level": 5,
     "metadata": {
      "slideshow": {
       "slide_type": "fragment"
      }
     },
     "source": [
      "accessing element"
     ]
    },
    {
     "cell_type": "code",
     "collapsed": false,
     "input": [
      "print(l[1], l[-1])"
     ],
     "language": "python",
     "metadata": {
      "slideshow": {
       "slide_type": "fragment"
      }
     },
     "outputs": [
      {
       "output_type": "stream",
       "stream": "stdout",
       "text": [
        "('2', 3.0)\n"
       ]
      }
     ],
     "prompt_number": 24
    },
    {
     "cell_type": "heading",
     "level": 5,
     "metadata": {
      "slideshow": {
       "slide_type": "subslide"
      }
     },
     "source": [
      "adding element at the end"
     ]
    },
    {
     "cell_type": "heading",
     "level": 5,
     "metadata": {},
     "source": [
      "l.append(\"czwarty element\")\n",
      "l.extend([None])\n",
      "print(l)"
     ]
    },
    {
     "cell_type": "heading",
     "level": 5,
     "metadata": {
      "slideshow": {
       "slide_type": "fragment"
      }
     },
     "source": [
      "adding element in the middle of the list"
     ]
    },
    {
     "cell_type": "code",
     "collapsed": false,
     "input": [
      "l.insert(1, \"i\")\n",
      "print(l)"
     ],
     "language": "python",
     "metadata": {
      "slideshow": {
       "slide_type": "fragment"
      }
     },
     "outputs": [
      {
       "output_type": "stream",
       "stream": "stdout",
       "text": [
        "[1, 'i', '2', 3.0]\n"
       ]
      }
     ],
     "prompt_number": 25
    },
    {
     "cell_type": "heading",
     "level": 5,
     "metadata": {
      "slideshow": {
       "slide_type": "fragment"
      }
     },
     "source": [
      "list length"
     ]
    },
    {
     "cell_type": "code",
     "collapsed": false,
     "input": [
      "len(l)"
     ],
     "language": "python",
     "metadata": {
      "slideshow": {
       "slide_type": "fragment"
      }
     },
     "outputs": [
      {
       "metadata": {},
       "output_type": "pyout",
       "prompt_number": 26,
       "text": [
        "4"
       ]
      }
     ],
     "prompt_number": 26
    },
    {
     "cell_type": "heading",
     "level": 5,
     "metadata": {
      "slideshow": {
       "slide_type": "fragment"
      }
     },
     "source": [
      "multiplication"
     ]
    },
    {
     "cell_type": "code",
     "collapsed": false,
     "input": [
      "[1, \"a\"] * 4"
     ],
     "language": "python",
     "metadata": {},
     "outputs": [
      {
       "metadata": {},
       "output_type": "pyout",
       "prompt_number": 27,
       "text": [
        "[1, 'a', 1, 'a', 1, 'a', 1, 'a']"
       ]
      }
     ],
     "prompt_number": 27
    },
    {
     "cell_type": "heading",
     "level": 3,
     "metadata": {
      "slideshow": {
       "slide_type": "subslide"
      }
     },
     "source": [
      "Tuple"
     ]
    },
    {
     "cell_type": "markdown",
     "metadata": {},
     "source": [
      "* sequence of immutable Python objects\n",
      "* works and acts like lists, but...\n",
      "* tuples can't be changed"
     ]
    },
    {
     "cell_type": "code",
     "collapsed": false,
     "input": [
      "t1 = (1, \"2\", 3.0)\n",
      "t2 = \"a\", \"b\", \"c\", \"d\"\n",
      "t3 = ()\n",
      "t4 = tuple()\n",
      "print(t1)\n",
      "print(t2[2])"
     ],
     "language": "python",
     "metadata": {
      "slideshow": {
       "slide_type": "fragment"
      }
     },
     "outputs": [
      {
       "output_type": "stream",
       "stream": "stdout",
       "text": [
        "(1, '2', 3.0)\n",
        "c\n"
       ]
      }
     ],
     "prompt_number": 28
    },
    {
     "cell_type": "heading",
     "level": 3,
     "metadata": {
      "slideshow": {
       "slide_type": "subslide"
      }
     },
     "source": [
      "Dictionary"
     ]
    },
    {
     "cell_type": "markdown",
     "metadata": {
      "slideshow": {
       "slide_type": "-"
      }
     },
     "source": [
      "* key-value storage\n",
      "* also known as associative arrays or hash tables\n",
      "* mutable\n",
      "* The values of a dictionary can be of any type, but the keys must be of an immutable data type such as strings, numbers, or tuples.\n",
      "* unordered!"
     ]
    },
    {
     "cell_type": "code",
     "collapsed": false,
     "input": [
      "d = {3: '3'}\n",
      "d['one'] = \"This is one\"\n",
      "d[2]     = \"This is two\"\n",
      "print(d)  # order different than insertion order"
     ],
     "language": "python",
     "metadata": {
      "slideshow": {
       "slide_type": "fragment"
      }
     },
     "outputs": [
      {
       "output_type": "stream",
       "stream": "stdout",
       "text": [
        "{2: 'This is two', 3: '3', 'one': 'This is one'}\n"
       ]
      }
     ],
     "prompt_number": 29
    },
    {
     "cell_type": "heading",
     "level": 5,
     "metadata": {
      "slideshow": {
       "slide_type": "subslide"
      }
     },
     "source": [
      "accessing element"
     ]
    },
    {
     "cell_type": "code",
     "collapsed": false,
     "input": [
      "print(d['one'])\n",
      "print(d.get(1, 'One'))"
     ],
     "language": "python",
     "metadata": {},
     "outputs": [
      {
       "output_type": "stream",
       "stream": "stdout",
       "text": [
        "This is one\n",
        "One\n"
       ]
      }
     ],
     "prompt_number": 30
    },
    {
     "cell_type": "heading",
     "level": 5,
     "metadata": {
      "slideshow": {
       "slide_type": "subslide"
      }
     },
     "source": [
      "Simple check if element (key!) in dictionary"
     ]
    },
    {
     "cell_type": "code",
     "collapsed": false,
     "input": [
      "2 in d"
     ],
     "language": "python",
     "metadata": {},
     "outputs": [
      {
       "metadata": {},
       "output_type": "pyout",
       "prompt_number": 31,
       "text": [
        "True"
       ]
      }
     ],
     "prompt_number": 31
    },
    {
     "cell_type": "heading",
     "level": 5,
     "metadata": {
      "slideshow": {
       "slide_type": "subslide"
      }
     },
     "source": [
      "Delete element"
     ]
    },
    {
     "cell_type": "code",
     "collapsed": false,
     "input": [
      "del d[2]"
     ],
     "language": "python",
     "metadata": {},
     "outputs": [],
     "prompt_number": 32
    },
    {
     "cell_type": "heading",
     "level": 5,
     "metadata": {
      "slideshow": {
       "slide_type": "subslide"
      }
     },
     "source": [
      "Iterating (tricky!)"
     ]
    },
    {
     "cell_type": "code",
     "collapsed": false,
     "input": [
      "print('Keys')\n",
      "for key in d:  # equivalent of d.keys()\n",
      "    print(key)\n",
      "print('\\nValues')\n",
      "for value in d.values():\n",
      "    print(value)\n",
      "print('\\nItems')\n",
      "for key, value in d.items():\n",
      "    print(key, value)"
     ],
     "language": "python",
     "metadata": {},
     "outputs": [
      {
       "output_type": "stream",
       "stream": "stdout",
       "text": [
        "Keys\n",
        "3\n",
        "one\n",
        "\n",
        "Values\n",
        "3\n",
        "This is one\n",
        "\n",
        "Items\n",
        "(3, '3')\n",
        "('one', 'This is one')\n"
       ]
      }
     ],
     "prompt_number": 33
    },
    {
     "cell_type": "heading",
     "level": 3,
     "metadata": {
      "slideshow": {
       "slide_type": "subslide"
      }
     },
     "source": [
      "Set"
     ]
    },
    {
     "cell_type": "code",
     "collapsed": false,
     "input": [
      "basket = ['apple', 'orange', 'apple', 'pear', 'orange', 'banana']\n",
      "fruit = set(basket)               # create a set without duplicates\n",
      "print(fruit)\n",
      "fruit = set(['orange', 'pear', 'apple', 'banana'])\n",
      "'orange' in fruit                 # fast membership testing"
     ],
     "language": "python",
     "metadata": {
      "slideshow": {
       "slide_type": "fragment"
      }
     },
     "outputs": [
      {
       "output_type": "stream",
       "stream": "stdout",
       "text": [
        "set(['orange', 'pear', 'apple', 'banana'])\n"
       ]
      },
      {
       "metadata": {},
       "output_type": "pyout",
       "prompt_number": 34,
       "text": [
        "True"
       ]
      }
     ],
     "prompt_number": 34
    },
    {
     "cell_type": "markdown",
     "metadata": {
      "slideshow": {
       "slide_type": "notes"
      }
     },
     "source": [
      "* z\u0142o\u017cono\u015b\u0107 - szybsze ni\u017c na li\u015bcie sprawdzanie czy element znajduje si\u0119 w secie\n",
      "* implementacja taka jak s\u0142ownika (ale tutaj bez warto\u015bci)\n",
      "* tylko unikalnie elementy"
     ]
    },
    {
     "cell_type": "heading",
     "level": 2,
     "metadata": {
      "slideshow": {
       "slide_type": "slide"
      }
     },
     "source": [
      "Advanced usage - tips & tricks"
     ]
    },
    {
     "cell_type": "heading",
     "level": 4,
     "metadata": {
      "slideshow": {
       "slide_type": "subslide"
      }
     },
     "source": [
      "lambda function"
     ]
    },
    {
     "cell_type": "markdown",
     "metadata": {},
     "source": [
      "* anonymous functions\n",
      "* only one expression (\"return path\")"
     ]
    },
    {
     "cell_type": "code",
     "collapsed": false,
     "input": [
      "f = lambda x: x**2 + 2*x - 5\n",
      "f(10)"
     ],
     "language": "python",
     "metadata": {},
     "outputs": [
      {
       "metadata": {},
       "output_type": "pyout",
       "prompt_number": 35,
       "text": [
        "115"
       ]
      }
     ],
     "prompt_number": 35
    },
    {
     "cell_type": "heading",
     "level": 4,
     "metadata": {
      "slideshow": {
       "slide_type": "subslide"
      }
     },
     "source": [
      "slicing"
     ]
    },
    {
     "cell_type": "code",
     "collapsed": false,
     "input": [
      "l = [1, 3, \"abc\", 10, 13, \"def\", \"ghi\"]\n",
      "print(l[1:3])\n",
      "print(l[1:100:2])\n",
      "print(l[-4:-1])"
     ],
     "language": "python",
     "metadata": {},
     "outputs": [
      {
       "output_type": "stream",
       "stream": "stdout",
       "text": [
        "[3, 'abc']\n",
        "[3, 10, 'def']\n",
        "[10, 13, 'def']\n"
       ]
      }
     ],
     "prompt_number": 36
    },
    {
     "cell_type": "heading",
     "level": 4,
     "metadata": {
      "slideshow": {
       "slide_type": "subslide"
      }
     },
     "source": [
      "list / dict comprehension"
     ]
    },
    {
     "cell_type": "code",
     "collapsed": false,
     "input": [
      "l = [1, 2, 3, 4, 5, 6, 7, 8, 9, 10]\n",
      "l2 = [x for x in l if x % 2 == 0]\n",
      "print(l2)"
     ],
     "language": "python",
     "metadata": {},
     "outputs": [
      {
       "output_type": "stream",
       "stream": "stdout",
       "text": [
        "[2, 4, 6, 8, 10]\n"
       ]
      }
     ],
     "prompt_number": 37
    },
    {
     "cell_type": "code",
     "collapsed": false,
     "input": [
      "d = dict(a=11, b=20, c=25, d=30)\n",
      "d2 = {k: v for (k, v) in d.items() if v <= 20}\n",
      "print(d2)"
     ],
     "language": "python",
     "metadata": {},
     "outputs": [
      {
       "output_type": "stream",
       "stream": "stdout",
       "text": [
        "{'a': 11, 'b': 20}\n"
       ]
      }
     ],
     "prompt_number": 38
    },
    {
     "cell_type": "heading",
     "level": 4,
     "metadata": {
      "slideshow": {
       "slide_type": "subslide"
      }
     },
     "source": [
      "defaultdict"
     ]
    },
    {
     "cell_type": "markdown",
     "metadata": {},
     "source": [
      "* dict subclass that calls a factory function to supply missing values"
     ]
    },
    {
     "cell_type": "code",
     "collapsed": false,
     "input": [
      "from collections import defaultdict\n",
      "d = defaultdict(int)  # default value: 0\n",
      "d[1] += 10\n",
      "d[2] -= 100\n",
      "print(d)"
     ],
     "language": "python",
     "metadata": {},
     "outputs": [
      {
       "output_type": "stream",
       "stream": "stdout",
       "text": [
        "defaultdict(<type 'int'>, {1: 10, 2: -100})\n"
       ]
      }
     ],
     "prompt_number": 39
    },
    {
     "cell_type": "heading",
     "level": 4,
     "metadata": {
      "slideshow": {
       "slide_type": "subslide"
      }
     },
     "source": [
      "OrderedDict"
     ]
    },
    {
     "cell_type": "markdown",
     "metadata": {},
     "source": [
      "* dict subclass that remembers the order entries were added"
     ]
    },
    {
     "cell_type": "code",
     "collapsed": false,
     "input": [
      "d1 = {}\n",
      "d1[3] = 4\n",
      "d1[1] = 2\n",
      "print(d1)"
     ],
     "language": "python",
     "metadata": {},
     "outputs": [
      {
       "output_type": "stream",
       "stream": "stdout",
       "text": [
        "{1: 2, 3: 4}\n"
       ]
      }
     ],
     "prompt_number": 40
    },
    {
     "cell_type": "code",
     "collapsed": false,
     "input": [
      "from collections import OrderedDict\n",
      "d2 = OrderedDict()\n",
      "d2[3] = 4\n",
      "d2[1] = 2\n",
      "print(d2)"
     ],
     "language": "python",
     "metadata": {},
     "outputs": [
      {
       "output_type": "stream",
       "stream": "stdout",
       "text": [
        "OrderedDict([(3, 4), (1, 2)])\n"
       ]
      }
     ],
     "prompt_number": 41
    },
    {
     "cell_type": "heading",
     "level": 4,
     "metadata": {
      "slideshow": {
       "slide_type": "subslide"
      }
     },
     "source": [
      "variable number of arguments"
     ]
    },
    {
     "cell_type": "markdown",
     "metadata": {},
     "source": [
      "* positional arguments\n",
      "* keyword arguments"
     ]
    },
    {
     "cell_type": "code",
     "collapsed": false,
     "input": [
      "def sum_(*args):\n",
      "    s = 0\n",
      "    for el in args:\n",
      "        s += el\n",
      "    return s\n",
      "\n",
      "print(sum_(1, 4, 7, 10))\n",
      "\n",
      "l = [1, 2, 3]\n",
      "print(sum_(*l))"
     ],
     "language": "python",
     "metadata": {},
     "outputs": [
      {
       "output_type": "stream",
       "stream": "stdout",
       "text": [
        "22\n",
        "6\n"
       ]
      }
     ],
     "prompt_number": 42
    },
    {
     "cell_type": "markdown",
     "metadata": {
      "slideshow": {
       "slide_type": "notes"
      }
     },
     "source": [
      "* zwr\u00f3ci\u0107 uwag\u0119 na podkre\u015blnik na ko\u0144cu sum_ -> konwencja, \u017ceby nie nadpisywa\u0107 zmiennych/funkcji wbudowanych"
     ]
    },
    {
     "cell_type": "code",
     "collapsed": false,
     "input": [
      "def greet_me(**kwargs):\n",
      "    for key, value in kwargs.items():\n",
      "        print(\"%s == %s\") % (key, value)\n",
      "    print(\"\")\n",
      "\n",
      "greet_me(first_name='Bill', last_name='Gates')\n",
      "\n",
      "d = {'first_name': 'Steve', 'last_name': 'Jobs'}\n",
      "greet_me(**d)"
     ],
     "language": "python",
     "metadata": {},
     "outputs": [
      {
       "output_type": "stream",
       "stream": "stdout",
       "text": [
        "first_name == Bill\n",
        "last_name == Gates\n",
        "\n",
        "first_name == Steve\n",
        "last_name == Jobs\n",
        "\n"
       ]
      }
     ],
     "prompt_number": 43
    },
    {
     "cell_type": "heading",
     "level": 4,
     "metadata": {
      "slideshow": {
       "slide_type": "subslide"
      }
     },
     "source": [
      "result unpacking"
     ]
    },
    {
     "cell_type": "code",
     "collapsed": false,
     "input": [
      "def f1():\n",
      "    return 1, 2, 4\n",
      "\n",
      "x, y, z = f1()\n",
      "print(x, z)"
     ],
     "language": "python",
     "metadata": {},
     "outputs": [
      {
       "output_type": "stream",
       "stream": "stdout",
       "text": [
        "(1, 4)\n"
       ]
      }
     ],
     "prompt_number": 44
    },
    {
     "cell_type": "heading",
     "level": 4,
     "metadata": {
      "slideshow": {
       "slide_type": "subslide"
      }
     },
     "source": [
      "magic methods"
     ]
    },
    {
     "cell_type": "markdown",
     "metadata": {},
     "source": [
      "Special custom methods that can be added to class\n",
      "\n",
      "* `__new__`\n",
      "* `__init__`\n",
      "* `__call__`\n",
      "* `__getitem__`\n",
      "\n",
      "and others (ex. operators overloading)"
     ]
    },
    {
     "cell_type": "heading",
     "level": 6,
     "metadata": {
      "slideshow": {
       "slide_type": "subslide"
      }
     },
     "source": [
      "Implementing __getitem__ in a class allows its instances to use the [] (indexer) operators."
     ]
    },
    {
     "cell_type": "code",
     "collapsed": false,
     "input": [
      "class Test(object):\n",
      "    def __getitem__(self, items):\n",
      "        print '%-15s  %s' % (type(items), items)\n",
      "\n",
      "t = Test()\n",
      "t[1]\n",
      "t['hello world']\n",
      "t[1, 'b', 3.0]"
     ],
     "language": "python",
     "metadata": {},
     "outputs": [
      {
       "output_type": "stream",
       "stream": "stdout",
       "text": [
        "<type 'int'>     1\n",
        "<type 'str'>     hello world\n",
        "<type 'tuple'>   (1, 'b', 3.0)\n"
       ]
      }
     ],
     "prompt_number": 45
    },
    {
     "cell_type": "heading",
     "level": 6,
     "metadata": {
      "slideshow": {
       "slide_type": "subslide"
      }
     },
     "source": [
      "Implementing the __call__ magic method in a class causes its instances to become callables"
     ]
    },
    {
     "cell_type": "code",
     "collapsed": false,
     "input": [
      "class Test(object):\n",
      "    def __call__(self, *args, **kwargs):\n",
      "        print args\n",
      "        print kwargs\n",
      "        print '-' * 80\n",
      "\n",
      "t = Test()\n",
      "t(1, 2, 3)"
     ],
     "language": "python",
     "metadata": {},
     "outputs": [
      {
       "output_type": "stream",
       "stream": "stdout",
       "text": [
        "(1, 2, 3)\n",
        "{}\n",
        "--------------------------------------------------------------------------------\n"
       ]
      }
     ],
     "prompt_number": 46
    },
    {
     "cell_type": "heading",
     "level": 2,
     "metadata": {
      "slideshow": {
       "slide_type": "slide"
      }
     },
     "source": [
      "Modules, packaging and virtualenv"
     ]
    },
    {
     "cell_type": "markdown",
     "metadata": {
      "slideshow": {
       "slide_type": "fragment"
      }
     },
     "source": [
      "* module - single Python file\n",
      "* package - collection of modules - dictionary (`__init__.py` file required!)"
     ]
    },
    {
     "cell_type": "code",
     "collapsed": false,
     "input": [
      "import os\n",
      "print(os.getcwd())"
     ],
     "language": "python",
     "metadata": {
      "slideshow": {
       "slide_type": "subslide"
      }
     },
     "outputs": [
      {
       "output_type": "stream",
       "stream": "stdout",
       "text": [
        "/Users/mateusz/workspace/put/tp_python/tp_python\n"
       ]
      }
     ],
     "prompt_number": 47
    },
    {
     "cell_type": "code",
     "collapsed": false,
     "input": [
      "from decimal import Decimal\n",
      "print(Decimal('11.1111111'))"
     ],
     "language": "python",
     "metadata": {
      "slideshow": {
       "slide_type": "fragment"
      }
     },
     "outputs": [
      {
       "output_type": "stream",
       "stream": "stdout",
       "text": [
        "11.1111111\n"
       ]
      }
     ],
     "prompt_number": 48
    },
    {
     "cell_type": "code",
     "collapsed": false,
     "input": [
      "# not recommended\n",
      "from math import *\n",
      "print(sin(pi))"
     ],
     "language": "python",
     "metadata": {
      "slideshow": {
       "slide_type": "fragment"
      }
     },
     "outputs": [
      {
       "output_type": "stream",
       "stream": "stdout",
       "text": [
        "1.22464679915e-16\n"
       ]
      }
     ],
     "prompt_number": 49
    },
    {
     "cell_type": "heading",
     "level": 3,
     "metadata": {
      "slideshow": {
       "slide_type": "subslide"
      }
     },
     "source": [
      "Packaging"
     ]
    },
    {
     "cell_type": "heading",
     "level": 5,
     "metadata": {
      "slideshow": {
       "slide_type": "-"
      }
     },
     "source": [
      "setup.py"
     ]
    },
    {
     "cell_type": "markdown",
     "metadata": {},
     "source": [
      "* Python's answer to a multi-platform installer and make file\n",
      "* project metadata"
     ]
    },
    {
     "cell_type": "markdown",
     "metadata": {},
     "source": [
      "    from setuptools import setup, find_packages\n",
      "\n",
      "    setup(\n",
      "        name='sample',\n",
      "        version='1.0',\n",
      "        description='Sample Python Package',\n",
      "        author='Jan Kowalski',\n",
      "        author_email='john@abc.com',\n",
      "        url='https://www.python.org/',\n",
      "        packages=find_packages(),\n",
      "        install_requires=[\n",
      "            'numpy>=1.9',\n",
      "            'Django==1.7',\n",
      "        ]\n",
      "    )"
     ]
    },
    {
     "cell_type": "heading",
     "level": 5,
     "metadata": {
      "slideshow": {
       "slide_type": "subslide"
      }
     },
     "source": [
      "tree structure"
     ]
    },
    {
     "cell_type": "markdown",
     "metadata": {},
     "source": [
      "    top\n",
      "    |-- package\n",
      "    |   |-- __init__.py\n",
      "    |   |-- module.py\n",
      "    |   |-- subpackage\n",
      "    |   |   |-- __init__.py\n",
      "    |   |   |-- another_module.py\n",
      "    |   `-- things\n",
      "    |       |-- cross.png\n",
      "    |       |-- fplogo.png\n",
      "    |       `-- tick.png\n",
      "    |-- MANIFEST.in\n",
      "    |-- README\n",
      "    `-- setup.py"
     ]
    },
    {
     "cell_type": "heading",
     "level": 3,
     "metadata": {
      "slideshow": {
       "slide_type": "subslide"
      }
     },
     "source": [
      "Virtualenv"
     ]
    },
    {
     "cell_type": "markdown",
     "metadata": {},
     "source": [
      "* isolated working copy of Python\n",
      "* allows to work on a specific project without worry of affecting other projects or whole system"
     ]
    },
    {
     "cell_type": "markdown",
     "metadata": {},
     "source": [
      "    virtualenv my_project\n",
      "    cd my_project\n",
      "    source bin/activate\n",
      "    pip install numpy"
     ]
    },
    {
     "cell_type": "heading",
     "level": 2,
     "metadata": {
      "slideshow": {
       "slide_type": "slide"
      }
     },
     "source": [
      "Built-in Functions"
     ]
    },
    {
     "cell_type": "heading",
     "level": 3,
     "metadata": {
      "slideshow": {
       "slide_type": "subslide"
      }
     },
     "source": [
      "sorting"
     ]
    },
    {
     "cell_type": "code",
     "collapsed": false,
     "input": [
      "l = [1, 10, 3, 2]\n",
      "sorted(l)"
     ],
     "language": "python",
     "metadata": {},
     "outputs": [
      {
       "metadata": {},
       "output_type": "pyout",
       "prompt_number": 50,
       "text": [
        "[1, 2, 3, 10]"
       ]
      }
     ],
     "prompt_number": 50
    },
    {
     "cell_type": "code",
     "collapsed": false,
     "input": [
      "sorted(l, key=lambda value: value % 2)"
     ],
     "language": "python",
     "metadata": {},
     "outputs": [
      {
       "metadata": {},
       "output_type": "pyout",
       "prompt_number": 51,
       "text": [
        "[10, 2, 1, 3]"
       ]
      }
     ],
     "prompt_number": 51
    },
    {
     "cell_type": "markdown",
     "metadata": {
      "slideshow": {
       "slide_type": "notes"
      }
     },
     "source": [
      "* merge sort"
     ]
    },
    {
     "cell_type": "heading",
     "level": 3,
     "metadata": {
      "slideshow": {
       "slide_type": "subslide"
      }
     },
     "source": [
      "range"
     ]
    },
    {
     "cell_type": "code",
     "collapsed": false,
     "input": [
      "range(5)"
     ],
     "language": "python",
     "metadata": {},
     "outputs": [
      {
       "metadata": {},
       "output_type": "pyout",
       "prompt_number": 52,
       "text": [
        "[0, 1, 2, 3, 4]"
       ]
      }
     ],
     "prompt_number": 52
    },
    {
     "cell_type": "code",
     "collapsed": false,
     "input": [
      "range(5, 20, 2)"
     ],
     "language": "python",
     "metadata": {},
     "outputs": [
      {
       "metadata": {},
       "output_type": "pyout",
       "prompt_number": 53,
       "text": [
        "[5, 7, 9, 11, 13, 15, 17, 19]"
       ]
      }
     ],
     "prompt_number": 53
    },
    {
     "cell_type": "code",
     "collapsed": false,
     "input": [
      "range(20, 10, -3)"
     ],
     "language": "python",
     "metadata": {},
     "outputs": [
      {
       "metadata": {},
       "output_type": "pyout",
       "prompt_number": 54,
       "text": [
        "[20, 17, 14, 11]"
       ]
      }
     ],
     "prompt_number": 54
    },
    {
     "cell_type": "markdown",
     "metadata": {
      "slideshow": {
       "slide_type": "notes"
      }
     },
     "source": [
      "bez ostatniego elementu [from, to)"
     ]
    },
    {
     "cell_type": "heading",
     "level": 3,
     "metadata": {
      "slideshow": {
       "slide_type": "subslide"
      }
     },
     "source": [
      "enumerate"
     ]
    },
    {
     "cell_type": "code",
     "collapsed": false,
     "input": [
      "txt = \"python\"\n",
      "for i, c in enumerate(txt):\n",
      "    print(i, c)"
     ],
     "language": "python",
     "metadata": {},
     "outputs": [
      {
       "output_type": "stream",
       "stream": "stdout",
       "text": [
        "(0, 'p')\n",
        "(1, 'y')\n",
        "(2, 't')\n",
        "(3, 'h')\n",
        "(4, 'o')\n",
        "(5, 'n')\n"
       ]
      }
     ],
     "prompt_number": 55
    },
    {
     "cell_type": "heading",
     "level": 3,
     "metadata": {
      "slideshow": {
       "slide_type": "subslide"
      }
     },
     "source": [
      "zip"
     ]
    },
    {
     "cell_type": "code",
     "collapsed": false,
     "input": [
      "l1 = [1, 2, 3, 4]\n",
      "l2 = \"abcd\"\n",
      "zip(l1, l2)"
     ],
     "language": "python",
     "metadata": {},
     "outputs": [
      {
       "metadata": {},
       "output_type": "pyout",
       "prompt_number": 56,
       "text": [
        "[(1, 'a'), (2, 'b'), (3, 'c'), (4, 'd')]"
       ]
      }
     ],
     "prompt_number": 56
    },
    {
     "cell_type": "heading",
     "level": 3,
     "metadata": {
      "slideshow": {
       "slide_type": "subslide"
      }
     },
     "source": [
      "chr & ord"
     ]
    },
    {
     "cell_type": "code",
     "collapsed": false,
     "input": [
      "chr(97)"
     ],
     "language": "python",
     "metadata": {},
     "outputs": [
      {
       "metadata": {},
       "output_type": "pyout",
       "prompt_number": 57,
       "text": [
        "'a'"
       ]
      }
     ],
     "prompt_number": 57
    },
    {
     "cell_type": "code",
     "collapsed": false,
     "input": [
      "ord('A')"
     ],
     "language": "python",
     "metadata": {},
     "outputs": [
      {
       "metadata": {},
       "output_type": "pyout",
       "prompt_number": 58,
       "text": [
        "65"
       ]
      }
     ],
     "prompt_number": 58
    },
    {
     "cell_type": "heading",
     "level": 3,
     "metadata": {
      "slideshow": {
       "slide_type": "subslide"
      }
     },
     "source": [
      "dir"
     ]
    },
    {
     "cell_type": "code",
     "collapsed": false,
     "input": [
      "s = \"python\"\n",
      "dir(s)"
     ],
     "language": "python",
     "metadata": {},
     "outputs": [
      {
       "metadata": {},
       "output_type": "pyout",
       "prompt_number": 59,
       "text": [
        "['__add__',\n",
        " '__class__',\n",
        " '__contains__',\n",
        " '__delattr__',\n",
        " '__doc__',\n",
        " '__eq__',\n",
        " '__format__',\n",
        " '__ge__',\n",
        " '__getattribute__',\n",
        " '__getitem__',\n",
        " '__getnewargs__',\n",
        " '__getslice__',\n",
        " '__gt__',\n",
        " '__hash__',\n",
        " '__init__',\n",
        " '__le__',\n",
        " '__len__',\n",
        " '__lt__',\n",
        " '__mod__',\n",
        " '__mul__',\n",
        " '__ne__',\n",
        " '__new__',\n",
        " '__reduce__',\n",
        " '__reduce_ex__',\n",
        " '__repr__',\n",
        " '__rmod__',\n",
        " '__rmul__',\n",
        " '__setattr__',\n",
        " '__sizeof__',\n",
        " '__str__',\n",
        " '__subclasshook__',\n",
        " '_formatter_field_name_split',\n",
        " '_formatter_parser',\n",
        " 'capitalize',\n",
        " 'center',\n",
        " 'count',\n",
        " 'decode',\n",
        " 'encode',\n",
        " 'endswith',\n",
        " 'expandtabs',\n",
        " 'find',\n",
        " 'format',\n",
        " 'index',\n",
        " 'isalnum',\n",
        " 'isalpha',\n",
        " 'isdigit',\n",
        " 'islower',\n",
        " 'isspace',\n",
        " 'istitle',\n",
        " 'isupper',\n",
        " 'join',\n",
        " 'ljust',\n",
        " 'lower',\n",
        " 'lstrip',\n",
        " 'partition',\n",
        " 'replace',\n",
        " 'rfind',\n",
        " 'rindex',\n",
        " 'rjust',\n",
        " 'rpartition',\n",
        " 'rsplit',\n",
        " 'rstrip',\n",
        " 'split',\n",
        " 'splitlines',\n",
        " 'startswith',\n",
        " 'strip',\n",
        " 'swapcase',\n",
        " 'title',\n",
        " 'translate',\n",
        " 'upper',\n",
        " 'zfill']"
       ]
      }
     ],
     "prompt_number": 59
    },
    {
     "cell_type": "heading",
     "level": 3,
     "metadata": {
      "slideshow": {
       "slide_type": "subslide"
      }
     },
     "source": [
      "min & max"
     ]
    },
    {
     "cell_type": "code",
     "collapsed": false,
     "input": [
      "l = [13, 4, 2, 5, 10, 8]"
     ],
     "language": "python",
     "metadata": {},
     "outputs": [],
     "prompt_number": 60
    },
    {
     "cell_type": "code",
     "collapsed": false,
     "input": [
      "max(l)"
     ],
     "language": "python",
     "metadata": {},
     "outputs": [
      {
       "metadata": {},
       "output_type": "pyout",
       "prompt_number": 61,
       "text": [
        "13"
       ]
      }
     ],
     "prompt_number": 61
    },
    {
     "cell_type": "code",
     "collapsed": false,
     "input": [
      "min(l)"
     ],
     "language": "python",
     "metadata": {},
     "outputs": [
      {
       "metadata": {},
       "output_type": "pyout",
       "prompt_number": 62,
       "text": [
        "2"
       ]
      }
     ],
     "prompt_number": 62
    },
    {
     "cell_type": "heading",
     "level": 3,
     "metadata": {
      "slideshow": {
       "slide_type": "subslide"
      }
     },
     "source": [
      "all & any"
     ]
    },
    {
     "cell_type": "code",
     "collapsed": false,
     "input": [
      "l = [4, \"abc\", True, None]"
     ],
     "language": "python",
     "metadata": {},
     "outputs": [],
     "prompt_number": 63
    },
    {
     "cell_type": "code",
     "collapsed": false,
     "input": [
      "any(l)"
     ],
     "language": "python",
     "metadata": {},
     "outputs": [
      {
       "metadata": {},
       "output_type": "pyout",
       "prompt_number": 64,
       "text": [
        "True"
       ]
      }
     ],
     "prompt_number": 64
    },
    {
     "cell_type": "code",
     "collapsed": false,
     "input": [
      "all(l)"
     ],
     "language": "python",
     "metadata": {},
     "outputs": [
      {
       "metadata": {},
       "output_type": "pyout",
       "prompt_number": 65,
       "text": [
        "False"
       ]
      }
     ],
     "prompt_number": 65
    },
    {
     "cell_type": "code",
     "collapsed": false,
     "input": [
      "all(l[:-1])"
     ],
     "language": "python",
     "metadata": {},
     "outputs": [
      {
       "metadata": {},
       "output_type": "pyout",
       "prompt_number": 66,
       "text": [
        "True"
       ]
      }
     ],
     "prompt_number": 66
    },
    {
     "cell_type": "heading",
     "level": 3,
     "metadata": {
      "slideshow": {
       "slide_type": "subslide"
      }
     },
     "source": [
      "map"
     ]
    },
    {
     "cell_type": "code",
     "collapsed": false,
     "input": [
      "any(l)"
     ],
     "language": "python",
     "metadata": {},
     "outputs": [
      {
       "metadata": {},
       "output_type": "pyout",
       "prompt_number": 67,
       "text": [
        "True"
       ]
      }
     ],
     "prompt_number": 67
    },
    {
     "cell_type": "code",
     "collapsed": false,
     "input": [
      "def pow2(x):\n",
      "    return x * x\n",
      "\n",
      "map(pow2, range(10))"
     ],
     "language": "python",
     "metadata": {},
     "outputs": [
      {
       "metadata": {},
       "output_type": "pyout",
       "prompt_number": 68,
       "text": [
        "[0, 1, 4, 9, 16, 25, 36, 49, 64, 81]"
       ]
      }
     ],
     "prompt_number": 68
    },
    {
     "cell_type": "heading",
     "level": 3,
     "metadata": {
      "slideshow": {
       "slide_type": "subslide"
      }
     },
     "source": [
      "sum"
     ]
    },
    {
     "cell_type": "code",
     "collapsed": false,
     "input": [
      "sum(range(5))"
     ],
     "language": "python",
     "metadata": {},
     "outputs": [
      {
       "metadata": {},
       "output_type": "pyout",
       "prompt_number": 69,
       "text": [
        "10"
       ]
      }
     ],
     "prompt_number": 69
    },
    {
     "cell_type": "heading",
     "level": 3,
     "metadata": {
      "slideshow": {
       "slide_type": "subslide"
      }
     },
     "source": [
      "filter"
     ]
    },
    {
     "cell_type": "code",
     "collapsed": false,
     "input": [
      "l = range(15)\n",
      "filter(lambda x: x % 2, l)"
     ],
     "language": "python",
     "metadata": {},
     "outputs": [
      {
       "metadata": {},
       "output_type": "pyout",
       "prompt_number": 70,
       "text": [
        "[1, 3, 5, 7, 9, 11, 13]"
       ]
      }
     ],
     "prompt_number": 70
    },
    {
     "cell_type": "heading",
     "level": 3,
     "metadata": {
      "slideshow": {
       "slide_type": "subslide"
      }
     },
     "source": [
      "reduce"
     ]
    },
    {
     "cell_type": "code",
     "collapsed": false,
     "input": [
      "l = range(1, 5)\n",
      "reduce(lambda x, y: x * y, l)"
     ],
     "language": "python",
     "metadata": {},
     "outputs": [
      {
       "metadata": {},
       "output_type": "pyout",
       "prompt_number": 71,
       "text": [
        "24"
       ]
      }
     ],
     "prompt_number": 71
    },
    {
     "cell_type": "heading",
     "level": 2,
     "metadata": {
      "slideshow": {
       "slide_type": "slide"
      }
     },
     "source": [
      "Standard library (stdlib)"
     ]
    },
    {
     "cell_type": "heading",
     "level": 3,
     "metadata": {
      "slideshow": {
       "slide_type": "subslide"
      }
     },
     "source": [
      "date & time"
     ]
    },
    {
     "cell_type": "code",
     "collapsed": false,
     "input": [
      "from datetime import date, datetime\n",
      "today = date.today()\n",
      "now = datetime.now()\n",
      "print(today)\n",
      "print(now)"
     ],
     "language": "python",
     "metadata": {},
     "outputs": [
      {
       "output_type": "stream",
       "stream": "stdout",
       "text": [
        "2015-01-28\n",
        "2015-01-28 23:06:53.455135\n"
       ]
      }
     ],
     "prompt_number": 72
    },
    {
     "cell_type": "code",
     "collapsed": false,
     "input": [
      "from datetime import timedelta\n",
      "d1 = date(2015, 1, 29)\n",
      "d1 + timedelta(days=10)"
     ],
     "language": "python",
     "metadata": {},
     "outputs": [
      {
       "metadata": {},
       "output_type": "pyout",
       "prompt_number": 73,
       "text": [
        "datetime.date(2015, 2, 8)"
       ]
      }
     ],
     "prompt_number": 73
    },
    {
     "cell_type": "heading",
     "level": 3,
     "metadata": {
      "slideshow": {
       "slide_type": "subslide"
      }
     },
     "source": [
      "files"
     ]
    },
    {
     "cell_type": "code",
     "collapsed": false,
     "input": [
      "try:\n",
      "    f = open(\"foo.txt\", \"w\")\n",
      "    try:\n",
      "        f.write('Python is great\\n')\n",
      "        f.write('Isn\\'t it?')\n",
      "    finally:\n",
      "        f.close()\n",
      "except IOError:\n",
      "    print(\"Something goes wrong\")\n",
      "except Exception as e:\n",
      "    print(\"Another exception: {}\".format(e))\n",
      "else:\n",
      "    print(\"Ended without exception\")"
     ],
     "language": "python",
     "metadata": {},
     "outputs": [
      {
       "output_type": "stream",
       "stream": "stdout",
       "text": [
        "Ended without exception\n"
       ]
      }
     ],
     "prompt_number": 74
    },
    {
     "cell_type": "code",
     "collapsed": false,
     "input": [
      "with open('foo.txt', 'r') as f:\n",
      "    print(f.readlines())"
     ],
     "language": "python",
     "metadata": {},
     "outputs": [
      {
       "output_type": "stream",
       "stream": "stdout",
       "text": [
        "['Python is great\\n', \"Isn't it?\"]\n"
       ]
      }
     ],
     "prompt_number": 75
    },
    {
     "cell_type": "markdown",
     "metadata": {
      "slideshow": {
       "slide_type": "notes"
      }
     },
     "source": [
      "* blok else - wchodzi w niego, kiedy nie by\u0142o \u017cadnego wyj\u0105tku\n",
      "* with - context manager - np. dla pliku dzia\u0142a jak opakowanie try-finally z closem na pliku\n",
      "* mo\u017cna robi\u0107 w\u0142asne context-managery, przez przeci\u0105\u017cenie metody __enter__ i __exit__"
     ]
    },
    {
     "cell_type": "heading",
     "level": 5,
     "metadata": {
      "slideshow": {
       "slide_type": "subslide"
      }
     },
     "source": [
      "urllib"
     ]
    },
    {
     "cell_type": "code",
     "collapsed": false,
     "input": [
      "from urllib import urlopen\n",
      "page = urlopen('http://google.com')\n",
      "for line in page:\n",
      "    print line[:20]"
     ],
     "language": "python",
     "metadata": {},
     "outputs": [
      {
       "output_type": "stream",
       "stream": "stdout",
       "text": [
        "<!doctype html><html\n",
        "function _gjh(){!_gj\n",
        "if (!iesg){document.\n",
        "}\n",
        "\n",
        "})();</script><div i\n",
        "a.i.Z,window.gbar.el\n",
        "});})();</script> </\n",
        "</script></div></bod\n"
       ]
      }
     ],
     "prompt_number": 76
    },
    {
     "cell_type": "heading",
     "level": 5,
     "metadata": {
      "slideshow": {
       "slide_type": "subslide"
      }
     },
     "source": [
      "regular expressions"
     ]
    },
    {
     "cell_type": "code",
     "collapsed": false,
     "input": [
      "import re\n",
      "s = 'an example word:cat!!'\n",
      "match = re.search(r'word:\\w\\w\\w', s)\n",
      "if match:                      \n",
      "    print 'found', match.group() # 'found word:cat'\n",
      "else:\n",
      "    print 'did not find'"
     ],
     "language": "python",
     "metadata": {},
     "outputs": [
      {
       "output_type": "stream",
       "stream": "stdout",
       "text": [
        "found word:cat\n"
       ]
      }
     ],
     "prompt_number": 77
    },
    {
     "cell_type": "code",
     "collapsed": false,
     "input": [
      "s = 'an example word:cat!!'\n",
      "match = re.match(r'word:\\w\\w\\w', s)\n",
      "if match:                      \n",
      "    print 'found', match.group()\n",
      "else:\n",
      "    print 'did not find'"
     ],
     "language": "python",
     "metadata": {},
     "outputs": [
      {
       "output_type": "stream",
       "stream": "stdout",
       "text": [
        "did not find\n"
       ]
      }
     ],
     "prompt_number": 78
    },
    {
     "cell_type": "code",
     "collapsed": false,
     "input": [
      "s = 'purple alice@put.com monkey dishwasher'\n",
      "match = re.search('([\\w.-]+)@([\\w.-]+)', s)\n",
      "if match:\n",
      "    print match.group()\n",
      "    print match.group(1)\n",
      "    print match.group(2)"
     ],
     "language": "python",
     "metadata": {
      "slideshow": {
       "slide_type": "subslide"
      }
     },
     "outputs": [
      {
       "output_type": "stream",
       "stream": "stdout",
       "text": [
        "alice@put.com\n",
        "alice\n",
        "put.com\n"
       ]
      }
     ],
     "prompt_number": 79
    },
    {
     "cell_type": "code",
     "collapsed": false,
     "input": [
      "s = 'purple alice@put.com, blah monkey bob@abc.com blah dishwasher'\n",
      "tuples = re.findall(r'([\\w\\.-]+)@([\\w\\.-]+)', s)\n",
      "print tuples\n",
      "for t in tuples:\n",
      "    print t[0]  # username\n",
      "    print t[1]  # host"
     ],
     "language": "python",
     "metadata": {},
     "outputs": [
      {
       "output_type": "stream",
       "stream": "stdout",
       "text": [
        "[('alice', 'put.com'), ('bob', 'abc.com')]\n",
        "alice\n",
        "put.com\n",
        "bob\n",
        "abc.com\n"
       ]
      }
     ],
     "prompt_number": 80
    },
    {
     "cell_type": "markdown",
     "metadata": {
      "slideshow": {
       "slide_type": "notes"
      }
     },
     "source": [
      "* r\u00f3\u017cnica mi\u0119dzy find a match: match tylko na pocz\u0105tku stringa\n",
      "* r przed stringiem - zostawia backslashe\n",
      "* wildcards:\n",
      "    - \\w - `[a-zA-Z0-9_]`\n",
      "    - . - matches any single character except newline '\\n'\n",
      "    - \\s - whitespace\n",
      "    - \\d - [0-9]"
     ]
    },
    {
     "cell_type": "heading",
     "level": 3,
     "metadata": {
      "slideshow": {
       "slide_type": "subslide"
      }
     },
     "source": [
      "json"
     ]
    },
    {
     "cell_type": "code",
     "collapsed": false,
     "input": [
      "import json\n",
      "data = [ { 'a':'A', 'b':(2, 4), 'c':3.0 } ]\n",
      "data_string = json.dumps(data, sort_keys=True, indent=2)\n",
      "print 'ENCODED:', data_string\n",
      "print(type(data_string))\n",
      "\n",
      "decoded = json.loads(data_string)\n",
      "print 'DECODED:', decoded"
     ],
     "language": "python",
     "metadata": {},
     "outputs": [
      {
       "output_type": "stream",
       "stream": "stdout",
       "text": [
        "ENCODED: [\n",
        "  {\n",
        "    \"a\": \"A\", \n",
        "    \"b\": [\n",
        "      2, \n",
        "      4\n",
        "    ], \n",
        "    \"c\": 3.0\n",
        "  }\n",
        "]\n",
        "<type 'str'>\n",
        "DECODED: [{u'a': u'A', u'c': 3.0, u'b': [2, 4]}]\n"
       ]
      }
     ],
     "prompt_number": 81
    },
    {
     "cell_type": "heading",
     "level": 2,
     "metadata": {
      "slideshow": {
       "slide_type": "slide"
      }
     },
     "source": [
      "IPython"
     ]
    },
    {
     "cell_type": "markdown",
     "metadata": {},
     "source": [
      "* rozbudowany shell do Pythona \n",
      "    - kolorowanie sk\u0142adni\n",
      "    - podpowiadanie sk\u0142adni \n",
      "    - wizualizacje\n",
      "* IPython Notebook\n",
      "* narz\u0119dzia do programowania r\u00f3wnoleg\u0142ego \n",
      "\n",
      "TODO -> eng"
     ]
    },
    {
     "cell_type": "code",
     "collapsed": false,
     "input": [
      "from IPython.display import YouTubeVideo\n",
      "YouTubeVideo('H6dLGQw9yFQ')"
     ],
     "language": "python",
     "metadata": {
      "slideshow": {
       "slide_type": "fragment"
      }
     },
     "outputs": [
      {
       "html": [
        "\n",
        "        <iframe\n",
        "            width=\"400\"\n",
        "            height=300\"\n",
        "            src=\"https://www.youtube.com/embed/H6dLGQw9yFQ\"\n",
        "            frameborder=\"0\"\n",
        "            allowfullscreen\n",
        "        ></iframe>\n",
        "        "
       ],
       "metadata": {},
       "output_type": "pyout",
       "prompt_number": 82,
       "text": [
        "<IPython.lib.display.YouTubeVideo at 0x1058ed710>"
       ]
      }
     ],
     "prompt_number": 82
    },
    {
     "cell_type": "markdown",
     "metadata": {
      "slideshow": {
       "slide_type": "notes"
      }
     },
     "source": [
      "prezentacja \"live\" \n",
      "\n",
      "pokaza\u0107 jaki\u015b przyk\u0142ad kt\u00f3ry by\u0142 powy\u017cej (np jakie\u015b listy, funkcje, import, podpowiadanie tabem) i \u017ce dzia\u0142aj\u0105 niekt\u00f3re komendy konsolowe (ls)"
     ]
    },
    {
     "cell_type": "heading",
     "level": 3,
     "metadata": {
      "slideshow": {
       "slide_type": "subslide"
      }
     },
     "source": [
      "IPython Parallel computing"
     ]
    },
    {
     "cell_type": "markdown",
     "metadata": {
      "slideshow": {
       "slide_type": "fragment"
      }
     },
     "source": [
      "* Steer traditional MPI applications on a supercomputer from an IPython session on your laptop.\n",
      "* Analyze and visualize large datasets (that could be remote and/or distributed) interactively.\n",
      "* Tie together multiple MPI jobs running on different systems into one giant distributed and parallel system.\n",
      "* Start a parallel job on your cluster and then have a remote collaborator connect to it and pull back data into their local IPython session for plotting and analysis.\n",
      "* Run a set of tasks on a set of CPUs using dynamic load balancing."
     ]
    },
    {
     "cell_type": "markdown",
     "metadata": {
      "slideshow": {
       "slide_type": "notes"
      }
     },
     "source": [
      "* Steer traditional MPI applications on a supercomputer from an IPython session on your laptop.\n",
      "* Analyze and visualize large datasets (that could be remote and/or distributed) interactively using IPython and tools like matplotlib/TVTK.\n",
      "* Develop, test and debug new parallel algorithms (that may use MPI) interactively.\n",
      "* Tie together multiple MPI jobs running on different systems into one giant distributed and parallel system.\n",
      "* Start a parallel job on your cluster and then have a remote collaborator connect to it and pull back data into their local IPython session for plotting and analysis.\n",
      "* Run a set of tasks on a set of CPUs using dynamic load balancing.\n",
      "\n",
      "IPython Engine, Schedulers, controller, hub\n",
      "\n",
      "IPYHTON tutorial paralell\n",
      "\n",
      "2011 Austin SciPy Conference\n",
      "Tutorial for IPython paralell computing\n",
      "http://minrk.github.io/scipy-tutorial-2011/"
     ]
    },
    {
     "cell_type": "heading",
     "level": 2,
     "metadata": {
      "slideshow": {
       "slide_type": "slide"
      }
     },
     "source": [
      "PyPy"
     ]
    },
    {
     "cell_type": "markdown",
     "metadata": {},
     "source": [
      "* Python implementation written in RPython\n",
      "* Can be compiled to Java bytecode, CLR, C\n",
      "* Many times faster than standard Python"
     ]
    },
    {
     "cell_type": "heading",
     "level": 3,
     "metadata": {},
     "source": [
      "PyPy vs CPython"
     ]
    },
    {
     "cell_type": "markdown",
     "metadata": {},
     "source": [
      "* PyPy 6.3 times faster (as for basic)\n",
      "* no GIL (Global Interpreter Lock) drawbacks\n",
      "* many of the libraries require CPython\n",
      "* need of reorganization of tools\n",
      "* in the end efficiency gain is unsure"
     ]
    },
    {
     "cell_type": "markdown",
     "metadata": {
      "slideshow": {
       "slide_type": "notes"
      }
     },
     "source": [
      "* Restricted Python - restrictions enabling inferring datatype on compile timr\n",
      "* mo\u017cna bardziej rozwin\u0105\u0107 temat GIL (tylko jeden proces CPythona dzia\u0142a na raz)\n",
      "* Because PyPy is a JIT compiler its main advantages come from long run times and simple types (such as numbers).\n",
      "* pokaz live: zmierzenie czasu wykonanania (plik pypy_test.py i pypy_test2.py)"
     ]
    },
    {
     "cell_type": "heading",
     "level": 2,
     "metadata": {
      "slideshow": {
       "slide_type": "slide"
      }
     },
     "source": [
      "NumPy"
     ]
    },
    {
     "cell_type": "markdown",
     "metadata": {},
     "source": [
      "* **Num**erical **Py**thon\n",
      "* set of tools to perform mathematical operations of on lists of numbers\n",
      "* storing and manipulating data that are more efficient than standard Python arrays (run almost as quickly as the equivalent C code)\n",
      "* support for large, multi-dimensional arrays and matrices\n",
      "* gives functionality comparable to MATLAB"
     ]
    },
    {
     "cell_type": "code",
     "collapsed": false,
     "input": [
      "import numpy as np\n",
      "\n",
      "x = [1, 2, 3, 4, 5, 6 ]\n",
      "np_arr = np.array(x)"
     ],
     "language": "python",
     "metadata": {
      "slideshow": {
       "slide_type": "subslide"
      }
     },
     "outputs": [],
     "prompt_number": 83
    },
    {
     "cell_type": "code",
     "collapsed": false,
     "input": [
      "x"
     ],
     "language": "python",
     "metadata": {},
     "outputs": [
      {
       "metadata": {},
       "output_type": "pyout",
       "prompt_number": 84,
       "text": [
        "[1, 2, 3, 4, 5, 6]"
       ]
      }
     ],
     "prompt_number": 84
    },
    {
     "cell_type": "code",
     "collapsed": false,
     "input": [
      "np_arr"
     ],
     "language": "python",
     "metadata": {},
     "outputs": [
      {
       "metadata": {},
       "output_type": "pyout",
       "prompt_number": 85,
       "text": [
        "array([1, 2, 3, 4, 5, 6])"
       ]
      }
     ],
     "prompt_number": 85
    },
    {
     "cell_type": "code",
     "collapsed": false,
     "input": [
      "np_arr == x"
     ],
     "language": "python",
     "metadata": {},
     "outputs": [
      {
       "metadata": {},
       "output_type": "pyout",
       "prompt_number": 86,
       "text": [
        "array([ True,  True,  True,  True,  True,  True], dtype=bool)"
       ]
      }
     ],
     "prompt_number": 86
    },
    {
     "cell_type": "code",
     "collapsed": false,
     "input": [
      "np_arr.shape"
     ],
     "language": "python",
     "metadata": {},
     "outputs": [
      {
       "metadata": {},
       "output_type": "pyout",
       "prompt_number": 87,
       "text": [
        "(6,)"
       ]
      }
     ],
     "prompt_number": 87
    },
    {
     "cell_type": "code",
     "collapsed": false,
     "input": [
      "np.array([[1,2],[3,4],[5,6]])"
     ],
     "language": "python",
     "metadata": {
      "slideshow": {
       "slide_type": "-"
      }
     },
     "outputs": [
      {
       "metadata": {},
       "output_type": "pyout",
       "prompt_number": 88,
       "text": [
        "array([[1, 2],\n",
        "       [3, 4],\n",
        "       [5, 6]])"
       ]
      }
     ],
     "prompt_number": 88
    },
    {
     "cell_type": "code",
     "collapsed": false,
     "input": [
      "data_set = np.random.random_sample((4,5))\n",
      "print(data_set)"
     ],
     "language": "python",
     "metadata": {
      "slideshow": {
       "slide_type": "subslide"
      }
     },
     "outputs": [
      {
       "output_type": "stream",
       "stream": "stdout",
       "text": [
        "[[ 0.15786748  0.48412352  0.86482087  0.97261437  0.62169373]\n",
        " [ 0.07949733  0.91654081  0.50839159  0.23847482  0.01560528]\n",
        " [ 0.50404039  0.33066984  0.44349405  0.06357948  0.9089199 ]\n",
        " [ 0.53188486  0.3396654   0.11196437  0.9954025   0.82018154]]\n"
       ]
      }
     ],
     "prompt_number": 89
    },
    {
     "cell_type": "code",
     "collapsed": false,
     "input": [
      "np.std(data_set)"
     ],
     "language": "python",
     "metadata": {},
     "outputs": [
      {
       "metadata": {},
       "output_type": "pyout",
       "prompt_number": 90,
       "text": [
        "0.32065503539352735"
       ]
      }
     ],
     "prompt_number": 90
    },
    {
     "cell_type": "code",
     "collapsed": false,
     "input": [
      "np.median(data_set)"
     ],
     "language": "python",
     "metadata": {},
     "outputs": [
      {
       "metadata": {},
       "output_type": "pyout",
       "prompt_number": 91,
       "text": [
        "0.49408195363572399"
       ]
      }
     ],
     "prompt_number": 91
    },
    {
     "cell_type": "code",
     "collapsed": false,
     "input": [
      "np.reshape(data_set, (5,4))"
     ],
     "language": "python",
     "metadata": {},
     "outputs": [
      {
       "metadata": {},
       "output_type": "pyout",
       "prompt_number": 92,
       "text": [
        "array([[ 0.15786748,  0.48412352,  0.86482087,  0.97261437],\n",
        "       [ 0.62169373,  0.07949733,  0.91654081,  0.50839159],\n",
        "       [ 0.23847482,  0.01560528,  0.50404039,  0.33066984],\n",
        "       [ 0.44349405,  0.06357948,  0.9089199 ,  0.53188486],\n",
        "       [ 0.3396654 ,  0.11196437,  0.9954025 ,  0.82018154]])"
       ]
      }
     ],
     "prompt_number": 92
    },
    {
     "cell_type": "code",
     "collapsed": false,
     "input": [
      "np.arange(10)"
     ],
     "language": "python",
     "metadata": {
      "slideshow": {
       "slide_type": "subslide"
      }
     },
     "outputs": [
      {
       "metadata": {},
       "output_type": "pyout",
       "prompt_number": 93,
       "text": [
        "array([0, 1, 2, 3, 4, 5, 6, 7, 8, 9])"
       ]
      }
     ],
     "prompt_number": 93
    },
    {
     "cell_type": "code",
     "collapsed": false,
     "input": [
      "np.arange(1, 10, 2.5, dtype=np.float64)"
     ],
     "language": "python",
     "metadata": {
      "slideshow": {
       "slide_type": "-"
      }
     },
     "outputs": [
      {
       "metadata": {},
       "output_type": "pyout",
       "prompt_number": 94,
       "text": [
        "array([ 1. ,  3.5,  6. ,  8.5])"
       ]
      }
     ],
     "prompt_number": 94
    },
    {
     "cell_type": "code",
     "collapsed": false,
     "input": [
      "a = np.array([1, 2, 3, 6])\n",
      "a**2"
     ],
     "language": "python",
     "metadata": {},
     "outputs": [
      {
       "metadata": {},
       "output_type": "pyout",
       "prompt_number": 95,
       "text": [
        "array([ 1,  4,  9, 36])"
       ]
      }
     ],
     "prompt_number": 95
    },
    {
     "cell_type": "code",
     "collapsed": false,
     "input": [
      "np.sin(a)"
     ],
     "language": "python",
     "metadata": {},
     "outputs": [
      {
       "metadata": {},
       "output_type": "pyout",
       "prompt_number": 96,
       "text": [
        "array([ 0.84147098,  0.90929743,  0.14112001, -0.2794155 ])"
       ]
      }
     ],
     "prompt_number": 96
    },
    {
     "cell_type": "heading",
     "level": 3,
     "metadata": {
      "slideshow": {
       "slide_type": "subslide"
      }
     },
     "source": [
      "Slicing"
     ]
    },
    {
     "cell_type": "code",
     "collapsed": false,
     "input": [
      "data_set[1]"
     ],
     "language": "python",
     "metadata": {},
     "outputs": [
      {
       "metadata": {},
       "output_type": "pyout",
       "prompt_number": 97,
       "text": [
        "array([ 0.07949733,  0.91654081,  0.50839159,  0.23847482,  0.01560528])"
       ]
      }
     ],
     "prompt_number": 97
    },
    {
     "cell_type": "code",
     "collapsed": false,
     "input": [
      "data_set[1][0]"
     ],
     "language": "python",
     "metadata": {},
     "outputs": [
      {
       "metadata": {},
       "output_type": "pyout",
       "prompt_number": 98,
       "text": [
        "0.079497333959855809"
       ]
      }
     ],
     "prompt_number": 98
    },
    {
     "cell_type": "code",
     "collapsed": false,
     "input": [
      "data_set[1,0]"
     ],
     "language": "python",
     "metadata": {},
     "outputs": [
      {
       "metadata": {},
       "output_type": "pyout",
       "prompt_number": 99,
       "text": [
        "0.079497333959855809"
       ]
      }
     ],
     "prompt_number": 99
    },
    {
     "cell_type": "code",
     "collapsed": false,
     "input": [
      "data_set[1:3]"
     ],
     "language": "python",
     "metadata": {},
     "outputs": [
      {
       "metadata": {},
       "output_type": "pyout",
       "prompt_number": 100,
       "text": [
        "array([[ 0.07949733,  0.91654081,  0.50839159,  0.23847482,  0.01560528],\n",
        "       [ 0.50404039,  0.33066984,  0.44349405,  0.06357948,  0.9089199 ]])"
       ]
      }
     ],
     "prompt_number": 100
    },
    {
     "cell_type": "code",
     "collapsed": false,
     "input": [
      "%%capture timeit_results\n",
      "# Regular Python\n",
      "%timeit python_list_1 = range(1,1000)\n",
      "python_list_1 = range(1,1000)\n",
      "python_list_2 = range(1,1000)\n",
      "\n",
      "#Numpy\n",
      "%timeit numpy_list_1 = np.arange(1,1000)\n",
      "numpy_list_1 = np.arange(1,1000)\n",
      "numpy_list_2 = np.arange(1,1000)"
     ],
     "language": "python",
     "metadata": {
      "slideshow": {
       "slide_type": "subslide"
      }
     },
     "outputs": [],
     "prompt_number": 101
    },
    {
     "cell_type": "code",
     "collapsed": false,
     "input": [
      "print(timeit_results)"
     ],
     "language": "python",
     "metadata": {},
     "outputs": [
      {
       "output_type": "stream",
       "stream": "stdout",
       "text": [
        "100000 loops, best of 3: 7.56 us per loop\n",
        "1000000 loops, best of 3: 1.64 us per loop\n",
        "\n"
       ]
      }
     ],
     "prompt_number": 102
    },
    {
     "cell_type": "code",
     "collapsed": false,
     "input": [
      "%%capture timeit_python\n",
      "%%timeit\n",
      "# Regular Python\n",
      "[(x + y) for x, y in zip(python_list_1, python_list_2)]\n",
      "[(x - y) for x, y in zip(python_list_1, python_list_2)]\n",
      "[(x * y) for x, y in zip(python_list_1, python_list_2)]\n",
      "[(x / y) for x, y in zip(python_list_1, python_list_2)];"
     ],
     "language": "python",
     "metadata": {
      "slideshow": {
       "slide_type": "subslide"
      }
     },
     "outputs": [],
     "prompt_number": 103
    },
    {
     "cell_type": "code",
     "collapsed": false,
     "input": [
      "%%capture timeit_numpy\n",
      "%%timeit\n",
      "#Numpy\n",
      "numpy_list_1 + numpy_list_2\n",
      "numpy_list_1 - numpy_list_2\n",
      "numpy_list_1 * numpy_list_2\n",
      "numpy_list_1 / numpy_list_2;"
     ],
     "language": "python",
     "metadata": {},
     "outputs": [],
     "prompt_number": 104
    },
    {
     "cell_type": "code",
     "collapsed": false,
     "input": [
      "print(timeit_python)\n",
      "print(timeit_numpy)"
     ],
     "language": "python",
     "metadata": {},
     "outputs": [
      {
       "output_type": "stream",
       "stream": "stdout",
       "text": [
        "1000 loops, best of 3: 466 us per loop\n",
        "\n",
        "10000 loops, best of 3: 21.9 us per loop\n",
        "\n"
       ]
      }
     ],
     "prompt_number": 105
    },
    {
     "cell_type": "heading",
     "level": 2,
     "metadata": {
      "slideshow": {
       "slide_type": "slide"
      }
     },
     "source": [
      "Matplotlib"
     ]
    },
    {
     "cell_type": "code",
     "collapsed": false,
     "input": [
      "%matplotlib inline"
     ],
     "language": "python",
     "metadata": {},
     "outputs": [],
     "prompt_number": 106
    },
    {
     "cell_type": "code",
     "collapsed": false,
     "input": [
      "import matplotlib.pyplot as plt\n",
      "import numpy as np\n",
      "from pylab import *"
     ],
     "language": "python",
     "metadata": {},
     "outputs": [],
     "prompt_number": 107
    },
    {
     "cell_type": "code",
     "collapsed": false,
     "input": [
      "x = np.linspace(0, 3*np.pi, 500)\n",
      "plt.plot(x, np.sin(x**2))\n",
      "plt.title('A simple chirp')"
     ],
     "language": "python",
     "metadata": {},
     "outputs": [
      {
       "metadata": {},
       "output_type": "pyout",
       "prompt_number": 108,
       "text": [
        "<matplotlib.text.Text at 0x1076d4750>"
       ]
      },
      {
       "metadata": {},
       "output_type": "display_data",
       "png": "[encoded data removed]",
       "text": [
        "<matplotlib.figure.Figure at 0x107609190>"
       ]
      }
     ],
     "prompt_number": 108
    },
    {
     "cell_type": "code",
     "collapsed": false,
     "input": [
      "x = [ 0, 1, 2, 3, 4, 5, 6 ]\n",
      "y = [ 0, 2, 4, 8, 16, 32, 64 ]\n",
      "plot(x, y, 'r-')\n",
      "axis(xmin=-10, xmax = 8, ymin=-10)\n",
      "xlabel('This is my X axis')\n",
      "ylabel('This is my Y axis')\n",
      "title('foo')\n",
      "savefig('figure.png')"
     ],
     "language": "python",
     "metadata": {
      "slideshow": {
       "slide_type": "subslide"
      }
     },
     "outputs": [
      {
       "metadata": {},
       "output_type": "display_data",
       "png": "[encoded data removed]",
       "text": [
        "<matplotlib.figure.Figure at 0x1076c8f50>"
       ]
      }
     ],
     "prompt_number": 109
    },
    {
     "cell_type": "heading",
     "level": 2,
     "metadata": {
      "slideshow": {
       "slide_type": "slide"
      }
     },
     "source": [
      "ScikitLearn"
     ]
    },
    {
     "cell_type": "markdown",
     "metadata": {},
     "source": [
      "* machine learning algorithms within Python code\n",
      "    - classification\n",
      "    - regression\n",
      "    - clustering\n",
      "    - preprocessing\n",
      "    - ...\n",
      "* clean, well-thought-out API\n",
      "* built upon Python's NumPy and SciPy"
     ]
    },
    {
     "cell_type": "markdown",
     "metadata": {
      "slideshow": {
       "slide_type": "notes"
      }
     },
     "source": [
      "* not specifically designed for extremely large datasets, though there is some work in this area."
     ]
    },
    {
     "cell_type": "heading",
     "level": 3,
     "metadata": {
      "slideshow": {
       "slide_type": "subslide"
      }
     },
     "source": [
      "Data representation"
     ]
    },
    {
     "cell_type": "markdown",
     "metadata": {},
     "source": [
      "* two-dimensional array or matrix (in most of algorithms)\n",
      "* the size of the array is expected to be `[n_samples, n_features]`"
     ]
    },
    {
     "cell_type": "markdown",
     "metadata": {
      "slideshow": {
       "slide_type": "notes"
      }
     },
     "source": [
      "* n_samples: The number of samples: each sample is an item to process (e.g. classify). A sample can be a document, a picture, a sound, a video, an astronomical object, a row in database or CSV file, or whatever you can describe with a fixed set of quantitative traits.\n",
      "* n_features: The number of features or distinct traits that can be used to describe each item in a quantitative manner. Features are generally real-valued, but may be boolean or discrete-valued in some cases.\n",
      "* http://nbviewer.ipython.org/github/jakevdp/ESAC-stats-2014/blob/master/notebooks/03.1-Scikit-Learn-Intro.ipynb"
     ]
    },
    {
     "cell_type": "heading",
     "level": 3,
     "metadata": {
      "slideshow": {
       "slide_type": "subslide"
      }
     },
     "source": [
      "Iris"
     ]
    },
    {
     "cell_type": "code",
     "collapsed": false,
     "input": [
      "from sklearn.datasets import load_iris\n",
      "iris = load_iris()\n",
      "iris.keys()"
     ],
     "language": "python",
     "metadata": {},
     "outputs": [
      {
       "metadata": {},
       "output_type": "pyout",
       "prompt_number": 110,
       "text": [
        "['target_names', 'data', 'target', 'DESCR', 'feature_names']"
       ]
      }
     ],
     "prompt_number": 110
    },
    {
     "cell_type": "code",
     "collapsed": false,
     "input": [
      "n_samples, n_features = iris.data.shape\n",
      "print((n_samples, n_features))\n",
      "print(iris.data[0])"
     ],
     "language": "python",
     "metadata": {},
     "outputs": [
      {
       "output_type": "stream",
       "stream": "stdout",
       "text": [
        "(150, 4)\n",
        "[ 5.1  3.5  1.4  0.2]\n"
       ]
      }
     ],
     "prompt_number": 111
    },
    {
     "cell_type": "code",
     "collapsed": false,
     "input": [
      "print(iris.data.shape)\n",
      "print(iris.target.shape)\n",
      "print(iris.target)"
     ],
     "language": "python",
     "metadata": {},
     "outputs": [
      {
       "output_type": "stream",
       "stream": "stdout",
       "text": [
        "(150, 4)\n",
        "(150,)\n",
        "[0 0 0 0 0 0 0 0 0 0 0 0 0 0 0 0 0 0 0 0 0 0 0 0 0 0 0 0 0 0 0 0 0 0 0 0 0\n",
        " 0 0 0 0 0 0 0 0 0 0 0 0 0 1 1 1 1 1 1 1 1 1 1 1 1 1 1 1 1 1 1 1 1 1 1 1 1\n",
        " 1 1 1 1 1 1 1 1 1 1 1 1 1 1 1 1 1 1 1 1 1 1 1 1 1 1 2 2 2 2 2 2 2 2 2 2 2\n",
        " 2 2 2 2 2 2 2 2 2 2 2 2 2 2 2 2 2 2 2 2 2 2 2 2 2 2 2 2 2 2 2 2 2 2 2 2 2\n",
        " 2 2]\n"
       ]
      }
     ],
     "prompt_number": 112
    },
    {
     "cell_type": "code",
     "collapsed": false,
     "input": [
      "x_index = 0\n",
      "y_index = 1\n",
      "\n",
      "# this formatter will label the colorbar with the correct target names\n",
      "formatter = plt.FuncFormatter(lambda i, *args: iris.target_names[int(i)])\n",
      "\n",
      "plt.scatter(iris.data[:, x_index], iris.data[:, y_index],\n",
      "            c=iris.target, cmap=plt.cm.get_cmap('RdYlBu', 3))\n",
      "plt.colorbar(ticks=[0, 1, 2], format=formatter)\n",
      "plt.clim(-0.5, 2.5)\n",
      "plt.xlabel(iris.feature_names[x_index])\n",
      "plt.ylabel(iris.feature_names[y_index])"
     ],
     "language": "python",
     "metadata": {
      "slideshow": {
       "slide_type": "subslide"
      }
     },
     "outputs": [
      {
       "metadata": {},
       "output_type": "pyout",
       "prompt_number": 113,
       "text": [
        "<matplotlib.text.Text at 0x108d077d0>"
       ]
      },
      {
       "metadata": {},
       "output_type": "display_data",
       "png": "[encoded data removed]",
       "text": [
        "<matplotlib.figure.Figure at 0x108ce6050>"
       ]
      }
     ],
     "prompt_number": 113
    },
    {
     "cell_type": "heading",
     "level": 3,
     "metadata": {
      "slideshow": {
       "slide_type": "subslide"
      }
     },
     "source": [
      "Supervised Learning: Classification and Regression"
     ]
    },
    {
     "cell_type": "code",
     "collapsed": false,
     "input": [
      "from sklearn import neighbors, datasets\n",
      "\n",
      "iris = datasets.load_iris()\n",
      "X, y = iris.data, iris.target\n",
      "\n",
      "# create the model\n",
      "knn = neighbors.KNeighborsClassifier(n_neighbors=5)\n",
      "\n",
      "# fit the model\n",
      "knn.fit(X, y)\n",
      "\n",
      "# What kind of iris has 3cm x 5cm sepal and 4cm x 2cm petal?\n",
      "# call the \"predict\" method:\n",
      "result = knn.predict([[3, 5, 4, 2],])\n",
      "\n",
      "print(iris.target_names[result])"
     ],
     "language": "python",
     "metadata": {},
     "outputs": [
      {
       "output_type": "stream",
       "stream": "stdout",
       "text": [
        "['versicolor']\n"
       ]
      }
     ],
     "prompt_number": 114
    },
    {
     "cell_type": "code",
     "collapsed": false,
     "input": [
      "knn.predict_proba([[3, 5, 4, 2],])"
     ],
     "language": "python",
     "metadata": {},
     "outputs": [
      {
       "metadata": {},
       "output_type": "pyout",
       "prompt_number": 115,
       "text": [
        "array([[ 0. ,  0.8,  0.2]])"
       ]
      }
     ],
     "prompt_number": 115
    },
    {
     "cell_type": "code",
     "collapsed": false,
     "input": [
      "from sklearn.svm import SVC"
     ],
     "language": "python",
     "metadata": {
      "slideshow": {
       "slide_type": "subslide"
      }
     },
     "outputs": [],
     "prompt_number": 116
    },
    {
     "cell_type": "code",
     "collapsed": false,
     "input": [
      "iris = datasets.load_iris()\n",
      "X, y = iris.data, iris.target\n",
      "\n",
      "model = SVC()\n",
      "model.fit(X, y)\n",
      "result = model.predict([[3, 5, 4, 2],])\n",
      "print(iris.target_names[result])"
     ],
     "language": "python",
     "metadata": {},
     "outputs": [
      {
       "output_type": "stream",
       "stream": "stdout",
       "text": [
        "['virginica']\n"
       ]
      }
     ],
     "prompt_number": 117
    },
    {
     "cell_type": "heading",
     "level": 3,
     "metadata": {
      "slideshow": {
       "slide_type": "subslide"
      }
     },
     "source": [
      "Clustering"
     ]
    },
    {
     "cell_type": "code",
     "collapsed": false,
     "input": [
      "from sklearn.cluster import KMeans\n",
      "\n",
      "iris = datasets.load_iris()\n",
      "X, y = iris.data, iris.target\n",
      "\n",
      "k_means = KMeans(n_clusters=3, random_state=0) # Fixing the RNG in kmeans\n",
      "k_means.fit(X)\n",
      "y_pred = k_means.predict(X)\n",
      "\n",
      "scatter(X[:, 0], X[:, 1], c=y_pred,\n",
      "           cmap='RdYlBu');"
     ],
     "language": "python",
     "metadata": {},
     "outputs": [
      {
       "metadata": {},
       "output_type": "display_data",
       "png": "[encoded data removed]",
       "text": [
        "<matplotlib.figure.Figure at 0x1063b3a10>"
       ]
      }
     ],
     "prompt_number": 118
    },
    {
     "cell_type": "heading",
     "level": 3,
     "metadata": {
      "slideshow": {
       "slide_type": "subslide"
      }
     },
     "source": [
      "Model Validation"
     ]
    },
    {
     "cell_type": "markdown",
     "metadata": {
      "slideshow": {
       "slide_type": "notes"
      }
     },
     "source": [
      "* how well your model will generalize from the training data to future unlabeled data\n",
      "* dla irisa wszystkie przyk\u0142ady identyfikowane poprawnie, ale po wprowadzeniu podzia\u0142u "
     ]
    },
    {
     "cell_type": "code",
     "collapsed": false,
     "input": [
      "from sklearn.neighbors import KNeighborsClassifier\n",
      "X, y = iris.data, iris.target\n",
      "clf = KNeighborsClassifier(n_neighbors=1)\n",
      "clf.fit(X, y)\n",
      "y_pred = clf.predict(X)\n",
      "print(np.all(y == y_pred))"
     ],
     "language": "python",
     "metadata": {},
     "outputs": [
      {
       "output_type": "stream",
       "stream": "stdout",
       "text": [
        "True\n"
       ]
      }
     ],
     "prompt_number": 119
    },
    {
     "cell_type": "code",
     "collapsed": false,
     "input": [
      "from sklearn.metrics import confusion_matrix\n",
      "print(confusion_matrix(y, y_pred))"
     ],
     "language": "python",
     "metadata": {},
     "outputs": [
      {
       "output_type": "stream",
       "stream": "stdout",
       "text": [
        "[[50  0  0]\n",
        " [ 0 50  0]\n",
        " [ 0  0 50]]\n"
       ]
      }
     ],
     "prompt_number": 120
    },
    {
     "cell_type": "code",
     "collapsed": false,
     "input": [
      "from sklearn.cross_validation import train_test_split\n",
      "Xtrain, Xtest, ytrain, ytest = train_test_split(X, y)\n",
      "clf.fit(Xtrain, ytrain)\n",
      "ypred = clf.predict(Xtest)\n",
      "print(confusion_matrix(ytest, ypred))"
     ],
     "language": "python",
     "metadata": {},
     "outputs": [
      {
       "output_type": "stream",
       "stream": "stdout",
       "text": [
        "[[12  0  0]\n",
        " [ 0 13  1]\n",
        " [ 0  0 12]]\n"
       ]
      }
     ],
     "prompt_number": 121
    },
    {
     "cell_type": "heading",
     "level": 2,
     "metadata": {
      "slideshow": {
       "slide_type": "slide"
      }
     },
     "source": [
      "Django"
     ]
    },
    {
     "cell_type": "markdown",
     "metadata": {},
     "source": [
      "* web application framework\n",
      "* follows MVC design pattern\n",
      "* primary goal is to ease the creation of complex, database-driven websites\n",
      "* emphasizes reusability and \"pluggability\" of components, rapid development, and the principle of DRY rule\n",
      "* built-in CRUD administration panel\n",
      "* well-known sites that use Django:\n",
      "    - Pinterest\n",
      "    - Instagram\n",
      "    - Mozilla\n",
      "    - Disqus"
     ]
    },
    {
     "cell_type": "markdown",
     "metadata": {
      "slideshow": {
       "slide_type": "notes"
      }
     },
     "source": [
      "* wbudowane ponadto w core'a:\n",
      "    - lekki serwer\n",
      "    - system templatek\n",
      "    - caching framework\n",
      "    - middleware - warstwy w przetwarzaniu requestu i odpowiedzi\n",
      "    - i18n\n",
      "    - unit testy\n",
      "* wbudowany mechanizm autenatykacji i autoryzacji\n",
      "* dodatki\n",
      "* projekt (g\u0142\u00f3wny) vs aplikacja (w projekcie)"
     ]
    },
    {
     "cell_type": "heading",
     "level": 4,
     "metadata": {
      "slideshow": {
       "slide_type": "subslide"
      }
     },
     "source": [
      "live demo"
     ]
    },
    {
     "cell_type": "markdown",
     "metadata": {
      "slideshow": {
       "slide_type": "notes"
      }
     },
     "source": [
      "    virtualenv django_test\n",
      "    cd django_test\n",
      "    source bin/activate\n",
      "    pip install django --download-cache=~/.pip/cache/\n",
      "    django-admin.py startproject mysite\n",
      "    cd mysite\n",
      "    python manage.py startapp blog"
     ]
    },
    {
     "cell_type": "heading",
     "level": 2,
     "metadata": {
      "slideshow": {
       "slide_type": "slide"
      }
     },
     "source": [
      "Tips & Tricks - part 2"
     ]
    },
    {
     "cell_type": "heading",
     "level": 3,
     "metadata": {
      "slideshow": {
       "slide_type": "subslide"
      }
     },
     "source": [
      "decorators"
     ]
    },
    {
     "cell_type": "markdown",
     "metadata": {},
     "source": [
      "* dynamically alter the functionality of a function, method or class without having to directly use subclasses\n",
      "* work as wrappers, modifying the behavior of the code before and after a target function execution"
     ]
    },
    {
     "cell_type": "code",
     "collapsed": false,
     "input": [
      "def get_text(name):\n",
      "   return \"lorem ipsum, {0} dolor sit amet\".format(name)\n",
      "\n",
      "def p_decorate(func):\n",
      "   def func_wrapper(name):\n",
      "       return \"<p>{0}</p>\".format(func(name))\n",
      "   return func_wrapper\n",
      "\n",
      "my_get_text = p_decorate(get_text)\n",
      "\n",
      "print(my_get_text(\"John\"))"
     ],
     "language": "python",
     "metadata": {
      "slideshow": {
       "slide_type": "subslide"
      }
     },
     "outputs": [
      {
       "output_type": "stream",
       "stream": "stdout",
       "text": [
        "<p>lorem ipsum, John dolor sit amet</p>\n"
       ]
      }
     ],
     "prompt_number": 122
    },
    {
     "cell_type": "code",
     "collapsed": false,
     "input": [
      "@p_decorate\n",
      "def get_text(name):\n",
      "    return 'hello {}'.format(name)\n",
      "\n",
      "print(get_text('Janusz'))"
     ],
     "language": "python",
     "metadata": {},
     "outputs": [
      {
       "output_type": "stream",
       "stream": "stdout",
       "text": [
        "<p>hello Janusz</p>\n"
       ]
      }
     ],
     "prompt_number": 123
    },
    {
     "cell_type": "code",
     "collapsed": false,
     "input": [
      "def tags(tag_name):\n",
      "    def tags_decorator(func):\n",
      "        def func_wrapper(name):\n",
      "            return \"<{0}>{1}</{0}>\".format(tag_name, func(name))\n",
      "        return func_wrapper\n",
      "    return tags_decorator\n",
      "\n",
      "@tags(\"h1\")\n",
      "def get_text(name):\n",
      "    return \"Hello \"+name\n",
      "\n",
      "print get_text(\"John\")"
     ],
     "language": "python",
     "metadata": {
      "slideshow": {
       "slide_type": "subslide"
      }
     },
     "outputs": [
      {
       "output_type": "stream",
       "stream": "stdout",
       "text": [
        "<h1>Hello John</h1>\n"
       ]
      }
     ],
     "prompt_number": 124
    },
    {
     "cell_type": "markdown",
     "metadata": {},
     "source": [
      "* mo\u017cna \u0142\u0105czy\u0107\n",
      "* mo\u017cna przekazywa\u0107 argumenty\n",
      "* zar\u00f3wno na metodzie, klasie jak i funkcji"
     ]
    },
    {
     "cell_type": "heading",
     "level": 3,
     "metadata": {
      "slideshow": {
       "slide_type": "subslide"
      }
     },
     "source": [
      "PEP8"
     ]
    },
    {
     "cell_type": "markdown",
     "metadata": {},
     "source": [
      "* Style Guide for Python Code\n",
      "* set of conventions\n",
      "* https://www.python.org/dev/peps/pep-0008/"
     ]
    },
    {
     "cell_type": "heading",
     "level": 3,
     "metadata": {},
     "source": [
      "Python 2 vs Python 3"
     ]
    },
    {
     "cell_type": "markdown",
     "metadata": {},
     "source": [
      "* incompatible!\n",
      "* Python 2.x is legacy, Python 3.x is the present and future of the language\n",
      "* main problem: dependency libraries are mostly written in Python 2\n",
      "* key differences:\n",
      "    - print is a function\n",
      "    - every string is unicode\n",
      "    - integer division"
     ]
    },
    {
     "cell_type": "heading",
     "level": 3,
     "metadata": {
      "slideshow": {
       "slide_type": "subslide"
      }
     },
     "source": [
      "Python drawbacks"
     ]
    },
    {
     "cell_type": "markdown",
     "metadata": {},
     "source": [
      "* performance\n",
      "* far from the metal\n",
      "* threading / GIL\n",
      "* Python 2/3 separation and incompatibility"
     ]
    },
    {
     "cell_type": "markdown",
     "metadata": {
      "slideshow": {
       "slide_type": "notes"
      }
     },
     "source": [
      "* nie czepiamy si\u0119 sk\u0142adni i dynamic typing - taki jest ten j\u0119zyk"
     ]
    },
    {
     "cell_type": "heading",
     "level": 2,
     "metadata": {
      "slideshow": {
       "slide_type": "slide"
      }
     },
     "source": [
      "Bonus question"
     ]
    },
    {
     "cell_type": "heading",
     "level": 4,
     "metadata": {},
     "source": [
      "What we've used to make this slideshow?"
     ]
    },
    {
     "cell_type": "markdown",
     "metadata": {
      "slideshow": {
       "slide_type": "fragment"
      }
     },
     "source": [
      "IPython Notebook!"
     ]
    }
   ],
   "metadata": {}
  }
 ]
}